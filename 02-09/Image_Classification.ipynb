{
 "cells": [
  {
   "cell_type": "code",
   "execution_count": 49,
   "metadata": {},
   "outputs": [],
   "source": [
    "import numpy\n",
    "import collections\n",
    "from tensorflow.python.framework import dtypes\n",
    "\n",
    "from os import listdir\n",
    "import os\n",
    "from os.path import isfile, join\n",
    "import numpy as np\n",
    "import cv2\n",
    "\n",
    "import matplotlib.pylab as plt\n",
    "%matplotlib inline\n",
    "\n",
    "from __future__ import division\n",
    "from __future__ import print_function\n",
    "\n",
    "import argparse\n",
    "import sys\n",
    "\n",
    "import glob\n",
    "import param\n",
    "import time\n",
    "\n",
    "import tensorflow as tf"
   ]
  },
  {
   "cell_type": "code",
   "execution_count": 2,
   "metadata": {},
   "outputs": [],
   "source": [
    "###From https://gist.github.com/ambodi/408301bc5bc07bc5afa8748513ab9477#file-dataset-py-L74"
   ]
  },
  {
   "cell_type": "code",
   "execution_count": 3,
   "metadata": {},
   "outputs": [],
   "source": [
    "###Data from  https://www.kaggle.com/c/dogs-vs-cats/data"
   ]
  },
  {
   "cell_type": "markdown",
   "metadata": {},
   "source": [
    "## Saving raw data to npy"
   ]
  },
  {
   "cell_type": "markdown",
   "metadata": {},
   "source": [
    "#### Load data"
   ]
  },
  {
   "cell_type": "code",
   "execution_count": 5,
   "metadata": {},
   "outputs": [
    {
     "name": "stdout",
     "output_type": "stream",
     "text": [
      "There are 16128 training images\n",
      "There are 720 testing images\n"
     ]
    }
   ],
   "source": [
    "#path to directory\n",
    "path_train = 'raw_data/train/'\n",
    "path_test = 'raw_data/test/'\n",
    "img_size= 100\n",
    "\n",
    "#get folder names\n",
    "def directory_scan(path):\n",
    "    dirlist = [ item for item in os.listdir(path) if os.path.isdir(os.path.join(path, item)) ]\n",
    "    return dirlist\n",
    "\n",
    "#build labels and image arrays, resize image to 100*100\n",
    "def read_images_in_folder(dirlist, path):\n",
    "    images=[]\n",
    "    labels = []\n",
    "    count = 0\n",
    "    for i in range(len(dirlist)):\n",
    "        image_stack = []\n",
    "        for img in glob.glob(path+dirlist[i]+'/*jpg'):\n",
    "            count=count+1\n",
    "            labels.append(dirlist[i])\n",
    "            IMG = cv2.imread(img)\n",
    "            #RGB to grey scale\n",
    "            IMG_2= cv2.cvtColor( IMG, cv2.COLOR_RGB2GRAY )\n",
    "            #resize to 100*100\n",
    "            im_resize = cv2.resize(IMG_2, (img_size, img_size), interpolation=cv2.INTER_CUBIC)\n",
    "            images.append(im_resize)\n",
    "        #np_images = np.array(image_stack)\n",
    "        \n",
    "    return images, labels, count\n",
    "\n",
    "if __name__ == '__main__':\n",
    "    dirlist_train = directory_scan(path_train)\n",
    "    images_train,labels_train,count_train = read_images_in_folder(dirlist_train, path_train)\n",
    "    dirlist_test = directory_scan(path_test)\n",
    "    images_test,labels_test,count_test = read_images_in_folder(dirlist_test, path_test)\n",
    "\n",
    "#save to file\n",
    "np.save('npy/images_train',images_train)\n",
    "np.save('npy/labels_train',labels_train)\n",
    "np.save('npy/images_test',images_test)\n",
    "np.save('npy/labels_test',labels_test)\n",
    "\n",
    "print('There are '+ str(count_train) +' training images')\n",
    "print('There are '+ str(count_test) +' testing images')\n",
    "\n",
    "nb_img_train = count_train\n",
    "nb_img_test = count_test"
   ]
  },
  {
   "cell_type": "markdown",
   "metadata": {},
   "source": [
    "#### Load NPY data"
   ]
  },
  {
   "cell_type": "code",
   "execution_count": 4,
   "metadata": {},
   "outputs": [],
   "source": [
    "#LOAD TRAIN\n",
    "#load images\n",
    "train_images = np.load('npy/images_train.npy')\n",
    "\n",
    "#load labels\n",
    "train_labels = np.load('npy/labels_train.npy')\n",
    "\n",
    "#LOAD TEST\n",
    "#load images\n",
    "test_images = np.load('npy/images_test.npy')\n",
    "\n",
    "#load labels\n",
    "test_labels = np.load('npy/labels_test.npy')\n",
    "\n",
    "img_size=100"
   ]
  },
  {
   "cell_type": "code",
   "execution_count": 5,
   "metadata": {},
   "outputs": [
    {
     "name": "stdout",
     "output_type": "stream",
     "text": [
      "bed\n"
     ]
    },
    {
     "data": {
      "text/plain": [
       "<matplotlib.image.AxesImage at 0x8ca4842320>"
      ]
     },
     "execution_count": 5,
     "metadata": {},
     "output_type": "execute_result"
    },
    {
     "data": {
      "image/png": "[encoded data removed]",
      "text/plain": [
       "<matplotlib.figure.Figure at 0x8c99748cf8>"
      ]
     },
     "metadata": {},
     "output_type": "display_data"
    }
   ],
   "source": [
    "index = 50\n",
    "print(train_labels[index])\n",
    "plt.imshow(train_images[index])"
   ]
  },
  {
   "cell_type": "code",
   "execution_count": 6,
   "metadata": {},
   "outputs": [],
   "source": [
    "path_train = 'raw_data/train/'\n",
    "path_test = 'raw_data/test/'\n",
    "img_size= 100\n",
    "\n",
    "#get folder names\n",
    "def directory_scan(path):\n",
    "    dirlist = [ item for item in os.listdir(path) if os.path.isdir(os.path.join(path, item)) ]\n",
    "    return dirlist\n",
    "\n",
    "dirlist_train = directory_scan(path_train)\n",
    "dirlist_test = directory_scan(path_test)\n",
    "\n",
    "nb_img_train = len(train_images)\n",
    "nb_img_test = len(test_images)"
   ]
  },
  {
   "cell_type": "code",
   "execution_count": 21,
   "metadata": {},
   "outputs": [],
   "source": [
    "#prepare and reshape testing/training sets\n",
    "#img_size = 100\n",
    "#nb_img_train = 1400\n",
    "#nb_img_test = 40\n",
    "\n",
    "train_img = train_images.reshape((nb_img_train, img_size * img_size))\n",
    "train_img = train_img.astype('float32') / 255\n",
    "\n",
    "test_img = test_images.reshape([-1,img_size,img_size,1])\n",
    "test_img = test_img.astype('float32') / 255"
   ]
  },
  {
   "cell_type": "code",
   "execution_count": 23,
   "metadata": {},
   "outputs": [
    {
     "data": {
      "text/plain": [
       "(720, 100, 100, 1)"
      ]
     },
     "execution_count": 23,
     "metadata": {},
     "output_type": "execute_result"
    }
   ],
   "source": [
    "test_img.shape"
   ]
  },
  {
   "cell_type": "markdown",
   "metadata": {},
   "source": [
    "#### One Hot Encoding of Labels"
   ]
  },
  {
   "cell_type": "code",
   "execution_count": 8,
   "metadata": {},
   "outputs": [],
   "source": [
    "#LABEL ONE HOT ENCODING\n",
    "#Training\n",
    "k=0\n",
    "for i in range(len(dirlist_train)):\n",
    "    for j in range(len(train_labels)):\n",
    "        if(train_labels[j]==dirlist_train[i]):\n",
    "            train_labels[j]=k\n",
    "    k=k+1\n",
    "\n",
    "#Testing\n",
    "m=0\n",
    "for l in range(len(dirlist_test)):\n",
    "    for h in range(len(test_labels)):\n",
    "        if(test_labels[h]==dirlist_test[l]):\n",
    "            test_labels[h]=m\n",
    "    m=m+1"
   ]
  },
  {
   "cell_type": "code",
   "execution_count": 9,
   "metadata": {},
   "outputs": [
    {
     "name": "stderr",
     "output_type": "stream",
     "text": [
      "C:\\Users\\TempUser\\Anaconda3\\envs\\tensorflow_1\\lib\\site-packages\\h5py\\__init__.py:36: FutureWarning: Conversion of the second argument of issubdtype from `float` to `np.floating` is deprecated. In future, it will be treated as `np.float64 == np.dtype(float).type`.\n",
      "  from ._conv import register_converters as _register_converters\n",
      "Using TensorFlow backend.\n"
     ]
    }
   ],
   "source": [
    "from keras.utils import to_categorical\n",
    "\n",
    "train_lab= to_categorical(train_labels)\n",
    "test_lab = to_categorical(test_labels)"
   ]
  },
  {
   "cell_type": "markdown",
   "metadata": {},
   "source": [
    "## Neural Net Model"
   ]
  },
  {
   "cell_type": "code",
   "execution_count": 19,
   "metadata": {},
   "outputs": [
    {
     "name": "stdout",
     "output_type": "stream",
     "text": [
      "Epoch 1/50\n",
      "16128/16128 [==============================] - 3s 205us/step - loss: 2.8824 - acc: 0.2202\n",
      "Epoch 2/50\n",
      "16128/16128 [==============================] - 3s 164us/step - loss: 1.6789 - acc: 0.3792\n",
      "Epoch 3/50\n",
      "16128/16128 [==============================] - 3s 165us/step - loss: 1.4874 - acc: 0.4649\n",
      "Epoch 4/50\n",
      "16128/16128 [==============================] - 3s 166us/step - loss: 1.4215 - acc: 0.4929\n",
      "Epoch 5/50\n",
      "16128/16128 [==============================] - 3s 174us/step - loss: 1.3427 - acc: 0.5231\n",
      "Epoch 6/50\n",
      "16128/16128 [==============================] - 3s 170us/step - loss: 1.2956 - acc: 0.5367\n",
      "Epoch 7/50\n",
      "16128/16128 [==============================] - 3s 169us/step - loss: 1.2646 - acc: 0.5490\n",
      "Epoch 8/50\n",
      "16128/16128 [==============================] - 3s 184us/step - loss: 1.2127 - acc: 0.5691\n",
      "Epoch 9/50\n",
      "16128/16128 [==============================] - 3s 174us/step - loss: 1.1792 - acc: 0.5810\n",
      "Epoch 10/50\n",
      "16128/16128 [==============================] - 3s 186us/step - loss: 1.1706 - acc: 0.5805\n",
      "Epoch 11/50\n",
      "16128/16128 [==============================] - 3s 183us/step - loss: 1.1320 - acc: 0.6011\n",
      "Epoch 12/50\n",
      "16128/16128 [==============================] - 3s 163us/step - loss: 1.1163 - acc: 0.6070\n",
      "Epoch 13/50\n",
      "16128/16128 [==============================] - 3s 164us/step - loss: 1.0640 - acc: 0.6280\n",
      "Epoch 14/50\n",
      "16128/16128 [==============================] - 3s 163us/step - loss: 1.0454 - acc: 0.6312\n",
      "Epoch 15/50\n",
      "16128/16128 [==============================] - 3s 164us/step - loss: 1.0299 - acc: 0.6388\n",
      "Epoch 16/50\n",
      "16128/16128 [==============================] - 3s 192us/step - loss: 1.0183 - acc: 0.6447\n",
      "Epoch 17/50\n",
      "16128/16128 [==============================] - 3s 204us/step - loss: 0.9866 - acc: 0.6540\n",
      "Epoch 18/50\n",
      "16128/16128 [==============================] - 3s 193us/step - loss: 0.9918 - acc: 0.6524\n",
      "Epoch 19/50\n",
      "16128/16128 [==============================] - 3s 175us/step - loss: 0.9553 - acc: 0.6654\n",
      "Epoch 20/50\n",
      "16128/16128 [==============================] - 3s 170us/step - loss: 0.9739 - acc: 0.6580\n",
      "Epoch 21/50\n",
      "16128/16128 [==============================] - 3s 169us/step - loss: 0.9351 - acc: 0.6731\n",
      "Epoch 22/50\n",
      "16128/16128 [==============================] - 3s 196us/step - loss: 0.9028 - acc: 0.6867\n",
      "Epoch 23/50\n",
      "16128/16128 [==============================] - 3s 172us/step - loss: 0.8814 - acc: 0.6954\n",
      "Epoch 24/50\n",
      "16128/16128 [==============================] - 3s 164us/step - loss: 0.9537 - acc: 0.6666\n",
      "Epoch 25/50\n",
      "16128/16128 [==============================] - 3s 177us/step - loss: 0.8608 - acc: 0.7029\n",
      "Epoch 26/50\n",
      "16128/16128 [==============================] - 3s 178us/step - loss: 0.8668 - acc: 0.6970\n",
      "Epoch 27/50\n",
      "16128/16128 [==============================] - 3s 173us/step - loss: 0.8351 - acc: 0.7139\n",
      "Epoch 28/50\n",
      "16128/16128 [==============================] - 3s 171us/step - loss: 0.8434 - acc: 0.7057\n",
      "Epoch 29/50\n",
      "16128/16128 [==============================] - 3s 174us/step - loss: 0.7944 - acc: 0.7295\n",
      "Epoch 30/50\n",
      "16128/16128 [==============================] - 3s 198us/step - loss: 0.7918 - acc: 0.7299\n",
      "Epoch 31/50\n",
      "16128/16128 [==============================] - 3s 199us/step - loss: 0.7976 - acc: 0.7263\n",
      "Epoch 32/50\n",
      "16128/16128 [==============================] - 3s 184us/step - loss: 0.7769 - acc: 0.7338\n",
      "Epoch 33/50\n",
      "16128/16128 [==============================] - 3s 178us/step - loss: 0.8244 - acc: 0.7148\n",
      "Epoch 34/50\n",
      "16128/16128 [==============================] - 3s 202us/step - loss: 0.7278 - acc: 0.7503\n",
      "Epoch 35/50\n",
      "16128/16128 [==============================] - 3s 202us/step - loss: 0.7679 - acc: 0.7344\n",
      "Epoch 36/50\n",
      "16128/16128 [==============================] - 3s 198us/step - loss: 0.7113 - acc: 0.7520\n",
      "Epoch 37/50\n",
      "16128/16128 [==============================] - 3s 193us/step - loss: 0.7147 - acc: 0.7513\n",
      "Epoch 38/50\n",
      "16128/16128 [==============================] - 3s 203us/step - loss: 0.7066 - acc: 0.7576\n",
      "Epoch 39/50\n",
      "16128/16128 [==============================] - 3s 200us/step - loss: 0.7522 - acc: 0.7409\n",
      "Epoch 40/50\n",
      "16128/16128 [==============================] - 3s 186us/step - loss: 0.6884 - acc: 0.7631\n",
      "Epoch 41/50\n",
      "16128/16128 [==============================] - 3s 195us/step - loss: 0.6509 - acc: 0.7779\n",
      "Epoch 42/50\n",
      "16128/16128 [==============================] - 3s 205us/step - loss: 0.6551 - acc: 0.7736\n",
      "Epoch 43/50\n",
      "16128/16128 [==============================] - 4s 221us/step - loss: 0.6510 - acc: 0.7752\n",
      "Epoch 44/50\n",
      "16128/16128 [==============================] - 3s 200us/step - loss: 0.6082 - acc: 0.7940\n",
      "Epoch 45/50\n",
      "16128/16128 [==============================] - 3s 202us/step - loss: 0.7048 - acc: 0.7553\n",
      "Epoch 46/50\n",
      "16128/16128 [==============================] - 3s 174us/step - loss: 0.6818 - acc: 0.7660\n",
      "Epoch 47/50\n",
      "16128/16128 [==============================] - 3s 166us/step - loss: 0.6068 - acc: 0.7921\n",
      "Epoch 48/50\n",
      "16128/16128 [==============================] - 3s 185us/step - loss: 0.6069 - acc: 0.7935\n",
      "Epoch 49/50\n",
      "16128/16128 [==============================] - 3s 172us/step - loss: 0.6292 - acc: 0.7817\n",
      "Epoch 50/50\n",
      "16128/16128 [==============================] - 3s 166us/step - loss: 0.5853 - acc: 0.7961\n"
     ]
    },
    {
     "data": {
      "text/plain": [
       "<keras.callbacks.History at 0x172a4f1b00>"
      ]
     },
     "execution_count": 19,
     "metadata": {},
     "output_type": "execute_result"
    }
   ],
   "source": [
    "from keras import models\n",
    "from keras import layers\n",
    "\n",
    "#initializes the model\n",
    "network = models.Sequential()\n",
    "\n",
    "#BUILD COMPUTATIONAL GRAPH\n",
    "network.add(layers.Dense(200, activation='relu', input_shape=(100 * 100,)))\n",
    "\n",
    "network.add(layers.Dense(300, activation='relu'))\n",
    "\n",
    "network.add(layers.Dense(400, activation='relu'))\n",
    "\n",
    "network.add(layers.Dense(len(dirlist_train), activation='softmax'))\n",
    "\n",
    "#SETS PERFORMANCE METRICS\n",
    "#network.compile(optimizer='Adam',\n",
    " #               loss='categorical_crossentropy',\n",
    "  #              metrics=['accuracy'])\n",
    "\n",
    "network.compile(optimizer='Adam',\n",
    "                loss='categorical_crossentropy',\n",
    "                metrics=['accuracy'])\n",
    "#Run model\n",
    "network.fit(train_img, train_lab, epochs=50, batch_size=800, shuffle=True)"
   ]
  },
  {
   "cell_type": "code",
   "execution_count": 20,
   "metadata": {},
   "outputs": [
    {
     "name": "stdout",
     "output_type": "stream",
     "text": [
      "720/720 [==============================] - 0s 153us/step\n"
     ]
    }
   ],
   "source": [
    "test_loss, test_acc = network.evaluate(test_img, test_lab)"
   ]
  },
  {
   "cell_type": "code",
   "execution_count": 21,
   "metadata": {},
   "outputs": [
    {
     "name": "stdout",
     "output_type": "stream",
     "text": [
      "test_acc: 0.7069444444444445 test_loss 0.8313100185659197\n"
     ]
    }
   ],
   "source": [
    "print('test_acc:', test_acc, 'test_loss', test_loss)"
   ]
  },
  {
   "cell_type": "markdown",
   "metadata": {},
   "source": [
    "## Convolutional Model"
   ]
  },
  {
   "cell_type": "code",
   "execution_count": 10,
   "metadata": {},
   "outputs": [],
   "source": [
    "# Learning Tensorflow, O'Reilly, Convolutional Neural Network, p. 63"
   ]
  },
  {
   "cell_type": "markdown",
   "metadata": {},
   "source": [
    "#### Helper Function Defintion"
   ]
  },
  {
   "cell_type": "code",
   "execution_count": 10,
   "metadata": {},
   "outputs": [],
   "source": [
    "def next_batch(num, data, labels):\n",
    "    '''\n",
    "    Return a total of `num` random samples and labels. \n",
    "    '''\n",
    "    idx = np.arange(0 , len(data))\n",
    "    np.random.shuffle(idx)\n",
    "    idx = idx[:num]\n",
    "    data_shuffle = [data[ i] for i in idx]\n",
    "    labels_shuffle = [labels[ i] for i in idx]\n",
    "\n",
    "    return np.asarray(data_shuffle), np.asarray(labels_shuffle)\n",
    "\n",
    "def next_batch_(num, data, labels):\n",
    "\n",
    "    '''\n",
    "    Return a total of `num` random samples and labels. \n",
    "    '''\n",
    "    idx = np.arange(0 , len(data))\n",
    "    np.random.shuffle(idx)\n",
    "    idx = idx[:num]\n",
    "    data_shuffle = data[idx]\n",
    "    labels_shuffle = labels[idx]\n",
    "    labels_shuffle = np.asarray(labels_shuffle.values.reshape(len(labels_shuffle), 1))\n",
    "\n",
    "    return data_shuffle, labels_shuffle"
   ]
  },
  {
   "cell_type": "code",
   "execution_count": 46,
   "metadata": {},
   "outputs": [],
   "source": [
    "#sets couple of functions\n",
    "def weight_variable(shape):\n",
    "    initial = tf.truncated_normal(shape,stddev=0.1)\n",
    "    return tf.Variable(initial)\n",
    "\n",
    "def bias_variable(shape):\n",
    "    initial=tf.constant(0.1,shape=shape)\n",
    "    return tf.Variable(initial)\n",
    "    \n",
    "def conv2d(x,W):\n",
    "    return tf.nn.conv2d(x,W,strides=[1,1,1,1], padding='SAME')\n",
    "\n",
    "def max_pool_2x2(x):\n",
    "    return tf.nn.max_pool(x, ksize=[1,2,2,1], strides=[1,2,2,1],padding='SAME')\n",
    "\n",
    "def conv_layer(input_,shape):\n",
    "    W=weight_variable(shape)\n",
    "    b=bias_variable([shape[3]])\n",
    "    return tf.nn.relu(conv2d(input_,W)+b)\n",
    "\n",
    "def full_layer(input_,size):\n",
    "    in_size=int(input_.get_shape()[1])\n",
    "    W=weight_variable([in_size,size])\n",
    "    b= bias_variable([size])\n",
    "    return tf.matmul(input_,W)+b\n",
    "\n",
    "def Plot_accuracy(train_acc, Title):\n",
    "    x = [i for i in range(0, len(train_acc))]\n",
    "    y= train_acc\n",
    "    plt.plot(x,y)\n",
    "    plt.ylabel('Accuracy')\n",
    "    plt.xlabel('Steps')\n",
    "    plt.xticks(x)\n",
    "    plt.ylim(ymax=1)\n",
    "    plt.ylim(ymin=0)\n",
    "    plt.xlim(xmin=0)\n",
    "    plt.grid(True)\n",
    "    plt.title(Title)\n",
    "    plt.show()"
   ]
  },
  {
   "cell_type": "markdown",
   "metadata": {},
   "source": [
    "#### Set Parameters"
   ]
  },
  {
   "cell_type": "code",
   "execution_count": null,
   "metadata": {},
   "outputs": [],
   "source": []
  },
  {
   "cell_type": "markdown",
   "metadata": {},
   "source": [
    "#### Computational Graph Definition"
   ]
  },
  {
   "cell_type": "code",
   "execution_count": null,
   "metadata": {},
   "outputs": [],
   "source": [
    "x_image = train_images.reshape([len(train_images) , img_size , img_size , 1])"
   ]
  },
  {
   "cell_type": "code",
   "execution_count": 28,
   "metadata": {},
   "outputs": [],
   "source": [
    "x = tf.placeholder(tf.float32, shape=[None, img_size,img_size,1])\n",
    "y_ = tf.placeholder(tf.float32, shape=[None,len(dirlist_train)])\n",
    "\n",
    "#x_image = tf.reshape(x, [50 , img_size , img_size , 1])\n",
    "\n",
    "#first conv layer\n",
    "#INPUT images >> (len(train_images),100,100,1)\n",
    "conv1= conv_layer(x, shape=[5,5,1,100]) #shape [kernel height, kernel width, nb of chanels in images, nb of output layers]\n",
    "conv1_pool= max_pool_2x2(conv1)\n",
    "#OUTPUT images >> (100,50,50)\n",
    "\n",
    "#second conv layer\n",
    "#INPUT images >> (100,50,50)\n",
    "conv2= conv_layer(conv1_pool, shape=[5,5,100,200])\n",
    "conv2_pool= max_pool_2x2(conv2)\n",
    "#OUTPUT images >> (200,25,25)\n",
    "\n",
    "#fully connected layer\n",
    "#INPUT images >> (200,25,25) >> reshape to 200*25*25 >> 125000\n",
    "conv2_flat = tf.reshape(conv2_pool, [-1,125000])\n",
    "full_1 = tf.nn.relu(full_layer(conv2_flat, 1000))\n",
    "#OUTPUT images >> (-1,1000)\n",
    "\n",
    "#dropout layer\n",
    "keep_prob=tf.placeholder(tf.float32)\n",
    "full1_drop = tf.nn.dropout(full_1, keep_prob=keep_prob)\n",
    "\n",
    "y_conv = full_layer(full1_drop, len(dirlist_train))"
   ]
  },
  {
   "cell_type": "code",
   "execution_count": 61,
   "metadata": {},
   "outputs": [
    {
     "name": "stdout",
     "output_type": "stream",
     "text": [
      "step 0, training accuracy 0.10000000149011612\n",
      "step 5, training accuracy 0.3799999952316284\n",
      "step 10, training accuracy 0.3799999952316284\n",
      "step 15, training accuracy 0.23999999463558197\n",
      "step 20, training accuracy 0.47999998927116394\n",
      "step 25, training accuracy 0.4399999976158142\n",
      "step 30, training accuracy 0.47999998927116394\n",
      "step 35, training accuracy 0.5799999833106995\n",
      "step 40, training accuracy 0.5\n",
      "step 45, training accuracy 0.41999998688697815\n",
      "step 50, training accuracy 0.36000001430511475\n",
      "step 55, training accuracy 0.41999998688697815\n",
      "step 60, training accuracy 0.5199999809265137\n",
      "step 65, training accuracy 0.46000000834465027\n",
      "step 70, training accuracy 0.4399999976158142\n",
      "step 75, training accuracy 0.5400000214576721\n",
      "step 80, training accuracy 0.5199999809265137\n",
      "step 85, training accuracy 0.5600000023841858\n",
      "step 90, training accuracy 0.46000000834465027\n",
      "step 95, training accuracy 0.5600000023841858\n",
      "step 100, training accuracy 0.41999998688697815\n",
      "step 105, training accuracy 0.5799999833106995\n",
      "step 110, training accuracy 0.4000000059604645\n",
      "step 115, training accuracy 0.3799999952316284\n",
      "test accuracy: 0.32083332538604736\n"
     ]
    },
    {
     "data": {
      "image/png": "[encoded data removed]",
      "text/plain": [
       "<matplotlib.figure.Figure at 0x8ca7471cc0>"
      ]
     },
     "metadata": {},
     "output_type": "display_data"
    },
    {
     "name": "stdout",
     "output_type": "stream",
     "text": [
      "Execution time = 16 min 7.567670822143555 sec\n"
     ]
    }
   ],
   "source": [
    "STEPS= 120\n",
    "\n",
    "train_acc = []\n",
    "\n",
    "cross_entropy = tf.reduce_mean(tf.nn.softmax_cross_entropy_with_logits(logits = y_conv, labels = y_))\n",
    "\n",
    "train_step = tf.train.AdamOptimizer(0.0001).minimize(cross_entropy)\n",
    "\n",
    "correct_prediction = tf.equal(tf.argmax(y_conv, 1), tf.argmax(y_,1))\n",
    "accuracy = tf.reduce_mean(tf.cast(correct_prediction, tf.float32))\n",
    "\n",
    "#calculate running time\n",
    "start = time.time()\n",
    "\n",
    "with tf.Session() as sess:\n",
    "    sess.run(tf.global_variables_initializer())\n",
    "    \n",
    "    for i in range(STEPS):\n",
    "        \n",
    "        batch_img, batch_label = next_batch(50,x_image,train_lab)\n",
    "        \n",
    "        if i%5==0:\n",
    "            train_accuracy = sess.run(accuracy, feed_dict={x: batch_img, y_: batch_label, keep_prob: 1.0})\n",
    "            print(\"step {}, training accuracy {}\".format(i, train_accuracy))\n",
    "            train_acc.append(train_accuracy)\n",
    "            \n",
    "        sess.run(train_step, feed_dict={x: batch_img, y_: batch_label, keep_prob: 0.5})\n",
    "        \n",
    "    X = test_img\n",
    "    Y = test_lab\n",
    "    test_accuracy = np.mean([sess.run(accuracy, feed_dict={x:X , y_:Y, keep_prob: 1.0})]) #for i in range(len(dirlist_train))])\n",
    "\n",
    "#calculate running time\n",
    "stop = time.time()\n",
    "\n",
    "#Extract performance metrics\n",
    "print('test accuracy: {}'.format(test_accuracy))\n",
    "Plot_accuracy(train_acc, \"Training\")\n",
    "print(\"Execution time = \" + str(int(((stop-start)-(stop-start)%60)/60)) +\" min \"+str((stop-start)%60)+\" sec\")"
   ]
  }
 ],
 "metadata": {
  "kernelspec": {
   "display_name": "Python 3",
   "language": "python",
   "name": "python3"
  },
  "language_info": {
   "codemirror_mode": {
    "name": "ipython",
    "version": 3
   },
   "file_extension": ".py",
   "mimetype": "text/x-python",
   "name": "python",
   "nbconvert_exporter": "python",
   "pygments_lexer": "ipython3",
   "version": "3.5.4"
  }
 },
 "nbformat": 4,
 "nbformat_minor": 2
}
