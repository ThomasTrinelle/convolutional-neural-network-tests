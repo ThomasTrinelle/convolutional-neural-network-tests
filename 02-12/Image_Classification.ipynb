{
 "cells": [
  {
   "cell_type": "code",
   "execution_count": 1,
   "metadata": {},
   "outputs": [],
   "source": [
    "import numpy\n",
    "import collections\n",
    "from tensorflow.python.framework import dtypes\n",
    "\n",
    "from os import listdir\n",
    "import os\n",
    "from os.path import isfile, join\n",
    "import numpy as np\n",
    "import cv2\n",
    "\n",
    "import matplotlib.pylab as plt\n",
    "%matplotlib inline\n",
    "\n",
    "from __future__ import division\n",
    "from __future__ import print_function\n",
    "\n",
    "import argparse\n",
    "import sys\n",
    "\n",
    "import glob\n",
    "import param\n",
    "import time\n",
    "\n",
    "from ipywidgets import interact, interactive, fixed, interact_manual\n",
    "import ipywidgets as widgets\n",
    "import IPython.display as display\n",
    "\n",
    "import tensorflow as tf\n",
    "\n",
    "import pydotplus as pydot\n",
    "import graphviz"
   ]
  },
  {
   "cell_type": "code",
   "execution_count": 2,
   "metadata": {},
   "outputs": [],
   "source": [
    "###From https://gist.github.com/ambodi/408301bc5bc07bc5afa8748513ab9477#file-dataset-py-L74"
   ]
  },
  {
   "cell_type": "code",
   "execution_count": 3,
   "metadata": {},
   "outputs": [],
   "source": [
    "###Data from  https://www.kaggle.com/c/dogs-vs-cats/data"
   ]
  },
  {
   "cell_type": "markdown",
   "metadata": {},
   "source": [
    "## Saving raw data to npy"
   ]
  },
  {
   "cell_type": "markdown",
   "metadata": {},
   "source": [
    "#### Load data"
   ]
  },
  {
   "cell_type": "code",
   "execution_count": 46,
   "metadata": {},
   "outputs": [
    {
     "name": "stdout",
     "output_type": "stream",
     "text": [
      "There are 15008 training images\n",
      "There are 1120 testing images\n"
     ]
    }
   ],
   "source": [
    "#path to directory\n",
    "path_train = 'raw_data/train/'\n",
    "path_test = 'raw_data/test/'\n",
    "img_size= 100\n",
    "\n",
    "#get folder names\n",
    "def directory_scan(path):\n",
    "    dirlist = [ item for item in os.listdir(path) if os.path.isdir(os.path.join(path, item)) ]\n",
    "    return dirlist\n",
    "\n",
    "#build labels and image arrays, resize image to 100*100\n",
    "def read_images_in_folder(dirlist, path):\n",
    "    images=[]\n",
    "    labels = []\n",
    "    count = 0\n",
    "    for i in range(len(dirlist)):\n",
    "        image_stack = []\n",
    "        for img in glob.glob(path+dirlist[i]+'/*jpg'):\n",
    "            count=count+1\n",
    "            labels.append(dirlist[i])\n",
    "            IMG = cv2.imread(img)\n",
    "            #RGB to grey scale\n",
    "            IMG_2= cv2.cvtColor( IMG, cv2.COLOR_RGB2GRAY )\n",
    "            #resize to 100*100\n",
    "            im_resize = cv2.resize(IMG_2, (img_size, img_size), interpolation=cv2.INTER_CUBIC)\n",
    "            images.append(im_resize)\n",
    "        #np_images = np.array(image_stack)\n",
    "        \n",
    "    return images, labels, count\n",
    "\n",
    "if __name__ == '__main__':\n",
    "    dirlist_train = directory_scan(path_train)\n",
    "    images_train,labels_train,count_train = read_images_in_folder(dirlist_train, path_train)\n",
    "    dirlist_test = directory_scan(path_test)\n",
    "    images_test,labels_test,count_test = read_images_in_folder(dirlist_test, path_test)\n",
    "\n",
    "#save to file\n",
    "np.save('npy/images_train',images_train)\n",
    "np.save('npy/labels_train',labels_train)\n",
    "np.save('npy/images_test',images_test)\n",
    "np.save('npy/labels_test',labels_test)\n",
    "\n",
    "print('There are '+ str(count_train) +' training images')\n",
    "print('There are '+ str(count_test) +' testing images')\n",
    "\n",
    "nb_img_train = count_train\n",
    "nb_img_test = count_test"
   ]
  },
  {
   "cell_type": "markdown",
   "metadata": {},
   "source": [
    "#### Load NPY data"
   ]
  },
  {
   "cell_type": "code",
   "execution_count": 2,
   "metadata": {},
   "outputs": [],
   "source": [
    "#LOAD TRAIN\n",
    "#load images\n",
    "train_images = np.load('npy/images_train.npy')\n",
    "\n",
    "#load labels\n",
    "train_labels = np.load('npy/labels_train.npy')\n",
    "\n",
    "#LOAD TEST\n",
    "#load images\n",
    "test_images = np.load('npy/images_test.npy')\n",
    "\n",
    "#load labels\n",
    "test_labels = np.load('npy/labels_test.npy')\n",
    "\n",
    "img_size=100"
   ]
  },
  {
   "cell_type": "code",
   "execution_count": 3,
   "metadata": {},
   "outputs": [
    {
     "name": "stdout",
     "output_type": "stream",
     "text": [
      "bed\n"
     ]
    },
    {
     "data": {
      "text/plain": [
       "<matplotlib.image.AxesImage at 0xdb784bf60>"
      ]
     },
     "execution_count": 3,
     "metadata": {},
     "output_type": "execute_result"
    },
    {
     "data": {
      "image/png": "[encoded data removed]",
      "text/plain": [
       "<matplotlib.figure.Figure at 0xdade1e630>"
      ]
     },
     "metadata": {},
     "output_type": "display_data"
    }
   ],
   "source": [
    "index = 50\n",
    "print(train_labels[index])\n",
    "plt.imshow(train_images[index])"
   ]
  },
  {
   "cell_type": "code",
   "execution_count": 4,
   "metadata": {},
   "outputs": [],
   "source": [
    "path_train = 'raw_data/train/'\n",
    "path_test = 'raw_data/test/'\n",
    "img_size= 100\n",
    "\n",
    "#get folder names\n",
    "def directory_scan(path):\n",
    "    dirlist = [ item for item in os.listdir(path) if os.path.isdir(os.path.join(path, item)) ]\n",
    "    return dirlist\n",
    "\n",
    "dirlist_train = directory_scan(path_train)\n",
    "dirlist_test = directory_scan(path_test)\n",
    "\n",
    "nb_img_train = len(train_images)\n",
    "nb_img_test = len(test_images)"
   ]
  },
  {
   "cell_type": "code",
   "execution_count": 5,
   "metadata": {},
   "outputs": [],
   "source": [
    "#prepare and reshape testing/training sets\n",
    "#img_size = 100\n",
    "#nb_img_train = 1400\n",
    "#nb_img_test = 40\n",
    "\n",
    "train_img = train_images.reshape((nb_img_train, img_size * img_size))\n",
    "train_img = train_img.astype('float32') / 255\n",
    "\n",
    "test_img = test_images.reshape([-1,img_size,img_size,1])\n",
    "test_img = test_img.astype('float32') / 255"
   ]
  },
  {
   "cell_type": "markdown",
   "metadata": {},
   "source": [
    "#### One Hot Encoding of Labels"
   ]
  },
  {
   "cell_type": "code",
   "execution_count": 6,
   "metadata": {},
   "outputs": [],
   "source": [
    "#LABEL ONE HOT ENCODING\n",
    "#Training\n",
    "k=0\n",
    "for i in range(len(dirlist_train)):\n",
    "    for j in range(len(train_labels)):\n",
    "        if(train_labels[j]==dirlist_train[i]):\n",
    "            train_labels[j]=k\n",
    "    k=k+1\n",
    "\n",
    "#Testing\n",
    "m=0\n",
    "for l in range(len(dirlist_test)):\n",
    "    for h in range(len(test_labels)):\n",
    "        if(test_labels[h]==dirlist_test[l]):\n",
    "            test_labels[h]=m\n",
    "    m=m+1"
   ]
  },
  {
   "cell_type": "code",
   "execution_count": 29,
   "metadata": {},
   "outputs": [],
   "source": [
    "from keras import models\n",
    "from keras import layers\n",
    "\n",
    "from keras.utils import to_categorical\n",
    "\n",
    "from keras.layers import Dense, Dropout, Activation\n",
    "\n",
    "from IPython.display import SVG\n",
    "from keras.utils.vis_utils import model_to_dot\n",
    "\n",
    "from keras.callbacks import History \n",
    "\n",
    "train_lab= to_categorical(train_labels)\n",
    "test_lab = to_categorical(test_labels)\n",
    "\n",
    "def Plot_accuracy(train_acc, Title):\n",
    "    x = [i for i in range(0, len(train_acc))]\n",
    "    y= train_acc\n",
    "    plt.plot(x,y)\n",
    "    plt.ylabel('Accuracy')\n",
    "    plt.xlabel('Steps')\n",
    "    plt.xticks(x)\n",
    "    plt.ylim(ymax=1)\n",
    "    plt.ylim(ymin=0)\n",
    "    plt.xlim(xmin=0)\n",
    "    plt.grid(True)\n",
    "    plt.title(Title)\n",
    "    plt.show()\n",
    "    \n",
    "def Plot_Loss(train_loss, Title):\n",
    "    x = [i for i in range(0, len(train_loss))]\n",
    "    y= train_loss\n",
    "    plt.plot(x,y)\n",
    "    plt.ylabel('Loss')\n",
    "    plt.xlabel('Steps')\n",
    "    plt.xticks(x)\n",
    "    plt.ylim(ymax=2)\n",
    "    plt.ylim(ymin=0)\n",
    "    plt.xlim(xmin=0)\n",
    "    plt.grid(True)\n",
    "    plt.title(Title)\n",
    "    plt.show()"
   ]
  },
  {
   "cell_type": "markdown",
   "metadata": {},
   "source": [
    "## Neural Net Model"
   ]
  },
  {
   "cell_type": "markdown",
   "metadata": {},
   "source": [
    "    Generate Computational Graph"
   ]
  },
  {
   "cell_type": "code",
   "execution_count": 43,
   "metadata": {},
   "outputs": [],
   "source": [
    "#initializes the model\n",
    "network = models.Sequential()\n",
    "\n",
    "#BUILD COMPUTATIONAL GRAPH\n",
    "network.add(layers.Dense(200, activation='relu', input_shape=(100 * 100,)))\n",
    "\n",
    "network.add(layers.Dense(300, activation='relu'))\n",
    "\n",
    "network.add(layers.Dense(400, activation='relu'))\n",
    "\n",
    "network.add(layers.Dense(200, activation='relu'))\n",
    "\n",
    "network.add(Dropout(0.7))\n",
    "\n",
    "network.add(layers.Dense(300, activation='relu'))\n",
    "\n",
    "network.add(Dropout(0.7))\n",
    "\n",
    "network.add(layers.Dense(300, activation='relu'))\n",
    "\n",
    "network.add(layers.Dense(len(dirlist_train), activation='softmax'))"
   ]
  },
  {
   "cell_type": "code",
   "execution_count": 44,
   "metadata": {},
   "outputs": [],
   "source": [
    "#Load previous model weights\n",
    "network.load_weights('saved_models/network_weights.h5', by_name=True)"
   ]
  },
  {
   "cell_type": "code",
   "execution_count": 46,
   "metadata": {},
   "outputs": [],
   "source": [
    "#SETS PERFORMANCE METRICS\n",
    "\n",
    "network.compile(optimizer='Adam',\n",
    "                loss='categorical_crossentropy',\n",
    "                metrics=['accuracy'])\n",
    "\n",
    "#SVG(model_to_dot(network).create(prog='dot', format='svg'))\n",
    "\n",
    "#from keras.utils import plot_model\n",
    "#plot_model(network, to_file='model.png')"
   ]
  },
  {
   "cell_type": "markdown",
   "metadata": {},
   "source": [
    "    Train Model"
   ]
  },
  {
   "cell_type": "code",
   "execution_count": 62,
   "metadata": {
    "scrolled": false
   },
   "outputs": [
    {
     "name": "stdout",
     "output_type": "stream",
     "text": [
      "Epoch 1/50\n",
      "15008/15008 [==============================] - 6s 391us/step - loss: 0.4922 - acc: 0.8412\n",
      "Epoch 2/50\n",
      "15008/15008 [==============================] - 3s 230us/step - loss: 0.5360 - acc: 0.8272\n",
      "Epoch 3/50\n",
      "15008/15008 [==============================] - 4s 235us/step - loss: 0.5428 - acc: 0.8236\n",
      "Epoch 4/50\n",
      "15008/15008 [==============================] - 4s 246us/step - loss: 0.4958 - acc: 0.8391\n",
      "Epoch 5/50\n",
      "15008/15008 [==============================] - 3s 223us/step - loss: 0.4464 - acc: 0.8521\n",
      "Epoch 6/50\n",
      "15008/15008 [==============================] - 3s 221us/step - loss: 0.4940 - acc: 0.8354\n",
      "Epoch 7/50\n",
      "15008/15008 [==============================] - 3s 214us/step - loss: 0.5437 - acc: 0.8178\n",
      "Epoch 8/50\n",
      "15008/15008 [==============================] - 3s 228us/step - loss: 0.4885 - acc: 0.8433\n",
      "Epoch 9/50\n",
      "15008/15008 [==============================] - 3s 229us/step - loss: 0.4292 - acc: 0.8605\n",
      "Epoch 10/50\n",
      "15008/15008 [==============================] - 3s 222us/step - loss: 0.3944 - acc: 0.8705\n",
      "Epoch 11/50\n",
      "15008/15008 [==============================] - 3s 218us/step - loss: 0.4676 - acc: 0.8447\n",
      "Epoch 12/50\n",
      "15008/15008 [==============================] - 3s 223us/step - loss: 0.4871 - acc: 0.8412\n",
      "Epoch 13/50\n",
      "15008/15008 [==============================] - 3s 227us/step - loss: 0.4335 - acc: 0.8589\n",
      "Epoch 14/50\n",
      "15008/15008 [==============================] - 3s 219us/step - loss: 0.4843 - acc: 0.8420\n",
      "Epoch 15/50\n",
      "15008/15008 [==============================] - 3s 222us/step - loss: 0.4647 - acc: 0.8508\n",
      "Epoch 16/50\n",
      "15008/15008 [==============================] - 3s 224us/step - loss: 0.3873 - acc: 0.8742\n",
      "Epoch 17/50\n",
      "15008/15008 [==============================] - 3s 210us/step - loss: 0.3751 - acc: 0.8786\n",
      "Epoch 18/50\n",
      "15008/15008 [==============================] - 3s 219us/step - loss: 0.3819 - acc: 0.8775\n",
      "Epoch 19/50\n",
      "15008/15008 [==============================] - 3s 204us/step - loss: 0.4111 - acc: 0.8667\n",
      "Epoch 20/50\n",
      "15008/15008 [==============================] - 3s 205us/step - loss: 0.3922 - acc: 0.8710\n",
      "Epoch 21/50\n",
      "15008/15008 [==============================] - 3s 206us/step - loss: 0.4247 - acc: 0.8597\n",
      "Epoch 22/50\n",
      "15008/15008 [==============================] - 3s 202us/step - loss: 0.4219 - acc: 0.8610\n",
      "Epoch 23/50\n",
      "15008/15008 [==============================] - 3s 212us/step - loss: 0.4009 - acc: 0.8700\n",
      "Epoch 24/50\n",
      "15008/15008 [==============================] - 3s 202us/step - loss: 0.3748 - acc: 0.8784\n",
      "Epoch 25/50\n",
      "15008/15008 [==============================] - 3s 197us/step - loss: 0.3565 - acc: 0.8851\n",
      "Epoch 26/50\n",
      "15008/15008 [==============================] - 3s 197us/step - loss: 0.4373 - acc: 0.8598\n",
      "Epoch 27/50\n",
      "15008/15008 [==============================] - 3s 204us/step - loss: 0.4346 - acc: 0.8599\n",
      "Epoch 28/50\n",
      "15008/15008 [==============================] - 3s 204us/step - loss: 0.4402 - acc: 0.8587\n",
      "Epoch 29/50\n",
      "15008/15008 [==============================] - 3s 209us/step - loss: 0.3894 - acc: 0.8748\n",
      "Epoch 30/50\n",
      "15008/15008 [==============================] - 3s 205us/step - loss: 0.3665 - acc: 0.8845\n",
      "Epoch 31/50\n",
      "15008/15008 [==============================] - 3s 204us/step - loss: 0.3179 - acc: 0.8986\n",
      "Epoch 32/50\n",
      "15008/15008 [==============================] - 3s 205us/step - loss: 0.3398 - acc: 0.8916\n",
      "Epoch 33/50\n",
      "15008/15008 [==============================] - 3s 209us/step - loss: 0.3868 - acc: 0.8747\n",
      "Epoch 34/50\n",
      "15008/15008 [==============================] - 3s 217us/step - loss: 0.3881 - acc: 0.8756\n",
      "Epoch 35/50\n",
      "15008/15008 [==============================] - 3s 195us/step - loss: 0.3442 - acc: 0.8890\n",
      "Epoch 36/50\n",
      "15008/15008 [==============================] - 3s 191us/step - loss: 0.3497 - acc: 0.8865\n",
      "Epoch 37/50\n",
      "15008/15008 [==============================] - 3s 196us/step - loss: 0.3706 - acc: 0.8797\n",
      "Epoch 38/50\n",
      "15008/15008 [==============================] - 3s 200us/step - loss: 0.3021 - acc: 0.9069\n",
      "Epoch 39/50\n",
      "15008/15008 [==============================] - 3s 212us/step - loss: 0.3297 - acc: 0.8956\n",
      "Epoch 40/50\n",
      "15008/15008 [==============================] - 3s 195us/step - loss: 0.4535 - acc: 0.8536\n",
      "Epoch 41/50\n",
      "15008/15008 [==============================] - 3s 199us/step - loss: 0.3937 - acc: 0.8737\n",
      "Epoch 42/50\n",
      "15008/15008 [==============================] - 3s 194us/step - loss: 0.3170 - acc: 0.8959\n",
      "Epoch 43/50\n",
      "15008/15008 [==============================] - 3s 194us/step - loss: 0.3037 - acc: 0.9023\n",
      "Epoch 44/50\n",
      "15008/15008 [==============================] - 3s 199us/step - loss: 0.3379 - acc: 0.8913\n",
      "Epoch 45/50\n",
      "15008/15008 [==============================] - 3s 193us/step - loss: 0.3231 - acc: 0.8947\n",
      "Epoch 46/50\n",
      "15008/15008 [==============================] - 3s 190us/step - loss: 0.3528 - acc: 0.8865\n",
      "Epoch 47/50\n",
      "15008/15008 [==============================] - 3s 190us/step - loss: 0.3118 - acc: 0.8990\n",
      "Epoch 48/50\n",
      "15008/15008 [==============================] - 3s 191us/step - loss: 0.3071 - acc: 0.9019\n",
      "Epoch 49/50\n",
      "15008/15008 [==============================] - 3s 191us/step - loss: 0.3835 - acc: 0.8762\n",
      "Epoch 50/50\n",
      "15008/15008 [==============================] - 3s 216us/step - loss: 0.3239 - acc: 0.8946\n",
      "Execution time = 2 min 39.54051613807678 sec\n"
     ]
    },
    {
     "data": {
      "image/png": "[encoded data removed]",
      "text/plain": [
       "<matplotlib.figure.Figure at 0xdc78a04e0>"
      ]
     },
     "metadata": {},
     "output_type": "display_data"
    },
    {
     "data": {
      "image/png": "[encoded data removed]",
      "text/plain": [
       "<matplotlib.figure.Figure at 0xdc78a05c0>"
      ]
     },
     "metadata": {},
     "output_type": "display_data"
    }
   ],
   "source": [
    "#Run model\n",
    "#calculate running time\n",
    "start = time.time()\n",
    "history= History()\n",
    "\n",
    "network.fit(train_img, train_lab, epochs=50, batch_size=800, shuffle=True, callbacks=[history])\n",
    "\n",
    "stop = time.time()\n",
    "print(\"Execution time = \" + str(int(((stop-start)-(stop-start)%60)/60)) +\" min \"+str((stop-start)%60)+\" sec\")\n",
    "\n",
    "Plot_accuracy(history.history['acc'], \"Training Accuracy\")\n",
    "\n",
    "Plot_Loss(history.history['loss'], \"Training Loss\")"
   ]
  },
  {
   "cell_type": "markdown",
   "metadata": {},
   "source": [
    "    Run on Test Set"
   ]
  },
  {
   "cell_type": "code",
   "execution_count": 121,
   "metadata": {},
   "outputs": [
    {
     "name": "stdout",
     "output_type": "stream",
     "text": [
      "1120/1120 [==============================] - 0s 136us/step\n"
     ]
    }
   ],
   "source": [
    "train_img = train_images.reshape((nb_img_train, img_size * img_size))\n",
    "train_img = train_img.astype('float32') / 255\n",
    "\n",
    "test_imgs = test_images.reshape([-1,img_size*img_size])\n",
    "test_imgs = test_imgs.astype('float32') / 255\n",
    "\n",
    "test_loss, test_acc = network.evaluate(test_imgs, test_lab)"
   ]
  },
  {
   "cell_type": "code",
   "execution_count": 122,
   "metadata": {},
   "outputs": [
    {
     "name": "stdout",
     "output_type": "stream",
     "text": [
      "test_acc: 0.5705357142857143 test_loss 2.1687780014106206\n"
     ]
    }
   ],
   "source": [
    "print('test_acc:', test_acc, 'test_loss', test_loss)"
   ]
  },
  {
   "cell_type": "markdown",
   "metadata": {},
   "source": [
    "    Predict for one image"
   ]
  },
  {
   "cell_type": "code",
   "execution_count": 128,
   "metadata": {},
   "outputs": [
    {
     "name": "stdout",
     "output_type": "stream",
     "text": [
      " \n",
      "Predicted Label : \u001b[1mBED\u001b[0m, Score:\u001b[1m0.986019\u001b[0m\n",
      "Actual Label : \u001b[1mBED\u001b[0m\n",
      " \n",
      "-----------------------------------------------------------\n",
      " \n",
      "BED : 0.986019\n",
      "CHAIR : 0.010899818\n",
      "COUCH : 0.0022536914\n",
      "LAMP : 0.0004481701\n",
      "TABLE : 0.00023916371\n",
      "CABINET : 0.0001227015\n",
      "BENCH : 1.630489e-05\n",
      "PLANT : 1.0669767e-06\n"
     ]
    },
    {
     "data": {
      "image/png": "[encoded data removed]",
      "text/plain": [
       "<matplotlib.figure.Figure at 0xdccbc9128>"
      ]
     },
     "metadata": {},
     "output_type": "display_data"
    }
   ],
   "source": [
    "predictions = network.predict(test_imgs)\n",
    "\n",
    "def Print_Pred(Predictions, index):\n",
    "    \n",
    "    scores = []\n",
    "\n",
    "    for i in range(len(dirlist_train)):\n",
    "        tup = (str(dirlist_train[i]), Predictions[index][i])\n",
    "        #sorted(predictions[1])\n",
    "        scores.append(tup)\n",
    "\n",
    "    sorted_scores = sorted(scores, key=lambda x: x[1], reverse=True)\n",
    "    \n",
    "    print(\" \")\n",
    "    print(\"Predicted Label : \" + '\\033[1m'  + str(max(scores, key=lambda x: x[1])[0]).upper() + '\\033[0m'+ \", Score:\" + '\\033[1m'  +str(max(scores, key=lambda x: x[1])[1])+ '\\033[0m' )\n",
    "    for i in range(len(test_lab[index])):\n",
    "        if(test_lab[index][i]== 1):\n",
    "            actual_label = dirlist_test[i]\n",
    "    print(\"Actual Label : \" + '\\033[1m'  +str(actual_label).upper()  + '\\033[0m')\n",
    "    print(\" \")\n",
    "    print(\"-----------------------------------------------------------\")\n",
    "    print(\" \")\n",
    "    \n",
    "    plt.imshow(test_images[index])\n",
    "\n",
    "    for i in range(len(sorted_scores)):\n",
    "        print(str(sorted_scores[i][0]).upper()  + \" : \" +str(sorted_scores[i][1]))\n",
    "        \n",
    "Print_Pred(predictions, 5)"
   ]
  },
  {
   "cell_type": "markdown",
   "metadata": {},
   "source": [
    "    Save Model Weights"
   ]
  },
  {
   "cell_type": "code",
   "execution_count": 37,
   "metadata": {},
   "outputs": [],
   "source": [
    "network.save_weights('saved_models/network_weights.h5')"
   ]
  },
  {
   "cell_type": "markdown",
   "metadata": {},
   "source": [
    "## Convolutional Model"
   ]
  },
  {
   "cell_type": "code",
   "execution_count": 10,
   "metadata": {},
   "outputs": [],
   "source": [
    "# Learning Tensorflow, O'Reilly, Convolutional Neural Network, p. 63"
   ]
  },
  {
   "cell_type": "markdown",
   "metadata": {},
   "source": [
    "#### Helper Function Defintion"
   ]
  },
  {
   "cell_type": "code",
   "execution_count": 54,
   "metadata": {},
   "outputs": [],
   "source": [
    "def next_batch(num, data, labels):\n",
    "    '''\n",
    "    Return a total of `num` random samples and labels. \n",
    "    '''\n",
    "    idx = np.arange(0 , len(data))\n",
    "    np.random.shuffle(idx)\n",
    "    idx = idx[:num]\n",
    "    data_shuffle = [data[ i] for i in idx]\n",
    "    labels_shuffle = [labels[ i] for i in idx]\n",
    "\n",
    "    return np.asarray(data_shuffle), np.asarray(labels_shuffle)"
   ]
  },
  {
   "cell_type": "code",
   "execution_count": 55,
   "metadata": {},
   "outputs": [],
   "source": [
    "#sets couple of functions\n",
    "def weight_variable(shape):\n",
    "    initial = tf.truncated_normal(shape,stddev=0.1)\n",
    "    return tf.Variable(initial)\n",
    "\n",
    "def bias_variable(shape):\n",
    "    initial=tf.constant(0.1,shape=shape)\n",
    "    return tf.Variable(initial)\n",
    "    \n",
    "def conv2d(x,W):\n",
    "    return tf.nn.conv2d(x,W,strides=[1,1,1,1], padding='SAME')\n",
    "\n",
    "def max_pool_2x2(x):\n",
    "    return tf.nn.max_pool(x, ksize=[1,2,2,1], strides=[1,2,2,1],padding='SAME')\n",
    "\n",
    "def conv_layer(input_,shape):\n",
    "    W=weight_variable(shape)\n",
    "    b=bias_variable([shape[3]])\n",
    "    return tf.nn.relu(conv2d(input_,W)+b)\n",
    "\n",
    "def full_layer(input_,size):\n",
    "    in_size=int(input_.get_shape()[1])\n",
    "    W=weight_variable([in_size,size])\n",
    "    b= bias_variable([size])\n",
    "    return tf.matmul(input_,W)+b\n",
    "\n",
    "def Plot_accuracy(train_acc, Title):\n",
    "    x = [i for i in range(0, len(train_acc))]\n",
    "    y= train_acc\n",
    "    plt.plot(x,y)\n",
    "    plt.ylabel('Accuracy')\n",
    "    plt.xlabel('Steps')\n",
    "    plt.xticks(x)\n",
    "    plt.ylim(ymax=1)\n",
    "    plt.ylim(ymin=0)\n",
    "    plt.xlim(xmin=0)\n",
    "    plt.grid(True)\n",
    "    plt.title(Title)\n",
    "    plt.show()"
   ]
  },
  {
   "cell_type": "markdown",
   "metadata": {},
   "source": [
    "#### Computational Graph Definition"
   ]
  },
  {
   "cell_type": "markdown",
   "metadata": {},
   "source": [
    "    Computational Graph Variables"
   ]
  },
  {
   "cell_type": "code",
   "execution_count": 57,
   "metadata": {},
   "outputs": [],
   "source": [
    "nb_max2x2 = 2\n",
    "kernel_size= 5\n",
    "conv1_output = 100\n",
    "conv2_output = 200\n",
    "fully_connected_length = int(img_size/(2*nb_max2x2)*img_size/(2*nb_max2x2)*conv2_output)\n",
    "fully_connected_1_output =500\n",
    "dropout_ratio = 0.5"
   ]
  },
  {
   "cell_type": "markdown",
   "metadata": {},
   "source": [
    "    Computational Graph"
   ]
  },
  {
   "cell_type": "code",
   "execution_count": 58,
   "metadata": {},
   "outputs": [],
   "source": [
    "#Placeholders\n",
    "x = tf.placeholder(tf.float32, shape=[None, img_size,img_size,1])\n",
    "y_ = tf.placeholder(tf.float32, shape=[None,len(dirlist_train)])\n",
    "\n",
    "#reshape images array\n",
    "x_image = train_images.reshape([len(train_images) , img_size , img_size , 1])\n",
    "\n",
    "#first conv layer\n",
    "#INPUT images >> (len(train_images),100,100,1)\n",
    "conv1= conv_layer(x, shape=[kernel_size,kernel_size,1,conv1_output ]) #shape [kernel height, kernel width, nb of chanels in images, nb of output layers]\n",
    "conv1_pool= max_pool_2x2(conv1)\n",
    "#OUTPUT images >> (100,50,50)\n",
    "\n",
    "#second conv layer\n",
    "#INPUT images >> (100,50,50)\n",
    "conv2= conv_layer(conv1_pool, shape=[kernel_size , kernel_size , conv1_output , conv2_output])\n",
    "conv2_pool= max_pool_2x2(conv2)\n",
    "#OUTPUT images >> (200,25,25)\n",
    "\n",
    "#second conv layer\n",
    "#INPUT images >> (100,50,50)\n",
    "#conv3= conv_layer(conv2_pool, shape=[kernel_size , kernel_size , conv2_output , conv2_output])\n",
    "#conv3_pool= max_pool_2x2(conv3)\n",
    "#OUTPUT images >> (200,25,25)\n",
    "\n",
    "#second conv layer\n",
    "#INPUT images >> (100,50,50)\n",
    "#conv4= conv_layer(conv3_pool, shape=[kernel_size , kernel_size , conv2_output , conv2_output])\n",
    "#conv4_pool= max_pool_2x2(conv4)\n",
    "#OUTPUT images >> (200,25,25)\n",
    "\n",
    "#fully connected layer\n",
    "#INPUT images >> (200,25,25) >> reshape to 200*25*25 >> 125000\n",
    "conv2_flat = tf.reshape(conv2_pool, [-1,fully_connected_length])\n",
    "full_1 = tf.nn.relu(full_layer(conv2_flat, fully_connected_1_output))\n",
    "#OUTPUT images >> (-1,1000)\n",
    "\n",
    "#dropout layer\n",
    "keep_prob=tf.placeholder(tf.float32)\n",
    "full1_drop = tf.nn.dropout(full_1, keep_prob=keep_prob)\n",
    "\n",
    "y_conv = full_layer(full1_drop, len(dirlist_train))"
   ]
  },
  {
   "cell_type": "markdown",
   "metadata": {},
   "source": [
    "    Run Variables"
   ]
  },
  {
   "cell_type": "code",
   "execution_count": 60,
   "metadata": {},
   "outputs": [],
   "source": [
    "#Run Variables\n",
    "batch_size=50\n",
    "STEPS= 5"
   ]
  },
  {
   "cell_type": "markdown",
   "metadata": {},
   "source": [
    "    Run"
   ]
  },
  {
   "cell_type": "code",
   "execution_count": 61,
   "metadata": {
    "scrolled": false
   },
   "outputs": [
    {
     "name": "stdout",
     "output_type": "stream",
     "text": [
      "step 0, training accuracy 0.019999999552965164\n",
      "step 1, training accuracy 0.20000000298023224\n",
      "step 2, training accuracy 0.2199999988079071\n",
      "step 3, training accuracy 0.23999999463558197\n",
      "step 4, training accuracy 0.18000000715255737\n",
      "test accuracy: 0.1339285671710968\n"
     ]
    },
    {
     "data": {
      "image/png": "[encoded data removed]",
      "text/plain": [
       "<matplotlib.figure.Figure at 0xdc789fa90>"
      ]
     },
     "metadata": {},
     "output_type": "display_data"
    },
    {
     "name": "stdout",
     "output_type": "stream",
     "text": [
      "Execution time = 1 min 26.5264573097229 sec\n"
     ]
    }
   ],
   "source": [
    "train_acc = []\n",
    "\n",
    "cross_entropy = tf.reduce_mean(tf.nn.softmax_cross_entropy_with_logits(logits = y_conv, labels = y_))\n",
    "\n",
    "train_step = tf.train.AdamOptimizer(0.0001).minimize(cross_entropy)\n",
    "\n",
    "correct_prediction = tf.equal(tf.argmax(y_conv, 1), tf.argmax(y_,1))\n",
    "accuracy = tf.reduce_mean(tf.cast(correct_prediction, tf.float32))\n",
    "\n",
    "#calculate running time\n",
    "start = time.time()\n",
    "\n",
    "with tf.Session() as sess:\n",
    "    sess.run(tf.global_variables_initializer())\n",
    "    \n",
    "    for i in range(STEPS):\n",
    "        \n",
    "        batch_img, batch_label = next_batch(batch_size,x_image,train_lab)\n",
    "        \n",
    "        if i%1==0:\n",
    "            train_accuracy = sess.run(accuracy, feed_dict={x: batch_img, y_: batch_label, keep_prob: 1.0})\n",
    "            print(\"step {}, training accuracy {}\".format(i, train_accuracy))\n",
    "            train_acc.append(train_accuracy)\n",
    "            \n",
    "        sess.run(train_step, feed_dict={x: batch_img, y_: batch_label, keep_prob: dropout_ratio})\n",
    "        \n",
    "    X = test_img\n",
    "    Y = test_lab\n",
    "    test_accuracy = np.mean([sess.run(accuracy, feed_dict={x:X , y_:Y, keep_prob: 1.0})]) #for i in range(len(dirlist_train))])\n",
    "\n",
    "#calculate running time\n",
    "stop = time.time()\n",
    "\n",
    "#Extract performance metrics\n",
    "print('test accuracy: {}'.format(test_accuracy))\n",
    "Plot_accuracy(train_acc, \"Training Accuracy\")\n",
    "print(\"Execution time = \" + str(int(((stop-start)-(stop-start)%60)/60)) +\" min \"+str((stop-start)%60)+\" sec\")"
   ]
  },
  {
   "cell_type": "code",
   "execution_count": null,
   "metadata": {},
   "outputs": [],
   "source": []
  }
 ],
 "metadata": {
  "kernelspec": {
   "display_name": "Python 3",
   "language": "python",
   "name": "python3"
  },
  "language_info": {
   "codemirror_mode": {
    "name": "ipython",
    "version": 3
   },
   "file_extension": ".py",
   "mimetype": "text/x-python",
   "name": "python",
   "nbconvert_exporter": "python",
   "pygments_lexer": "ipython3",
   "version": "3.5.4"
  }
 },
 "nbformat": 4,
 "nbformat_minor": 2
}
