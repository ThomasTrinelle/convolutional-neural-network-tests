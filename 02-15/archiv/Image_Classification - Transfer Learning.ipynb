{
 "cells": [
  {
   "cell_type": "markdown",
   "metadata": {},
   "source": [
    "# Transfer Learning\n",
    "\n",
    "#### Neural Network for Suggestive CAD"
   ]
  },
  {
   "cell_type": "markdown",
   "metadata": {},
   "source": [
    "--------------------------------------------------------------------------------------------------------------------------------"
   ]
  },
  {
   "cell_type": "markdown",
   "metadata": {},
   "source": [
    "    Import packages"
   ]
  },
  {
   "cell_type": "code",
   "execution_count": 1,
   "metadata": {},
   "outputs": [
    {
     "name": "stderr",
     "output_type": "stream",
     "text": [
      "C:\\Users\\TempUser\\Anaconda3\\envs\\CPU_tensorflow\\lib\\site-packages\\h5py\\__init__.py:36: FutureWarning: Conversion of the second argument of issubdtype from `float` to `np.floating` is deprecated. In future, it will be treated as `np.float64 == np.dtype(float).type`.\n",
      "  from ._conv import register_converters as _register_converters\n",
      "Using TensorFlow backend.\n"
     ]
    }
   ],
   "source": [
    "import numpy as np\n",
    "import collections\n",
    "#from tensorflow.python.framework import dtypes\n",
    "\n",
    "from os import listdir\n",
    "import os\n",
    "from os.path import isfile, join\n",
    "import numpy as np\n",
    "import cv2\n",
    "\n",
    "import matplotlib.pylab as plt\n",
    "%matplotlib inline\n",
    "\n",
    "from __future__ import division\n",
    "from __future__ import print_function\n",
    "\n",
    "import argparse\n",
    "import sys\n",
    "\n",
    "import glob\n",
    "import param\n",
    "import time\n",
    "\n",
    "#from ipywidgets import interact, interactive, fixed, interact_manual\n",
    "#import ipywidgets as widgets\n",
    "import IPython.display as display\n",
    "\n",
    "import tensorflow as tf\n",
    "\n",
    "#import pydotplus as pydot\n",
    "#import graphviz\n",
    "\n",
    "\n",
    "\n",
    "# KERAS IMPORTS\n",
    "import keras\n",
    "from keras import models\n",
    "from keras import layers\n",
    "from keras.utils import to_categorical\n",
    "from keras.layers import Dense, Dropout, Activation, Flatten, Conv2D, MaxPooling2D\n",
    "from keras.layers.normalization import BatchNormalization \n",
    "from keras.layers.advanced_activations import LeakyReLU\n",
    "from IPython.display import SVG\n",
    "from keras.utils.vis_utils import model_to_dot\n",
    "from keras.callbacks import History \n",
    "\n",
    "#SKLEARN\n",
    "from sklearn.metrics import classification_report"
   ]
  },
  {
   "cell_type": "code",
   "execution_count": 3,
   "metadata": {},
   "outputs": [],
   "source": [
    "###From https://gist.github.com/ambodi/408301bc5bc07bc5afa8748513ab9477#file-dataset-py-L74"
   ]
  },
  {
   "cell_type": "code",
   "execution_count": 4,
   "metadata": {},
   "outputs": [],
   "source": [
    "###Data from  https://www.kaggle.com/c/dogs-vs-cats/data"
   ]
  },
  {
   "cell_type": "markdown",
   "metadata": {},
   "source": [
    "## Saving raw data to npy"
   ]
  },
  {
   "cell_type": "markdown",
   "metadata": {},
   "source": [
    "#### Load data"
   ]
  },
  {
   "cell_type": "code",
   "execution_count": 16,
   "metadata": {},
   "outputs": [],
   "source": [
    "#path to directory\n",
    "path_train = 'raw_data/train/'\n",
    "path_test = 'raw_data/test/'\n",
    "path_val = 'raw_data/val/'\n",
    "\n",
    "img_size= 100\n",
    "\n",
    "#get folder names\n",
    "def directory_scan(path):\n",
    "    dirlist = [ item for item in os.listdir(path) if os.path.isdir(os.path.join(path, item)) ]\n",
    "    return dirlist\n",
    "\n",
    "#build labels and image arrays, resize image to 100*100\n",
    "def read_images_in_folder(dirlist, path):\n",
    "    images=[]\n",
    "    labels = []\n",
    "    count = 0\n",
    "    for i in range(len(dirlist)):\n",
    "        image_stack = []\n",
    "        for img in glob.glob(path+dirlist[i]+'/*jpg'):\n",
    "            count=count+1\n",
    "            labels.append(dirlist[i])\n",
    "            IMG = cv2.imread(img)\n",
    "            #RGB to grey scale\n",
    "            #IMG_2= cv2.cvtColor( IMG, cv2.COLOR_RGB2GRAY )\n",
    "            #resize to 100*100\n",
    "            im_resize = cv2.resize(IMG, (img_size, img_size), 3)\n",
    "            images.append(im_resize)\n",
    "        #np_images = np.array(image_stack)\n",
    "        \n",
    "    return images, labels, count"
   ]
  },
  {
   "cell_type": "code",
   "execution_count": 17,
   "metadata": {},
   "outputs": [
    {
     "name": "stdout",
     "output_type": "stream",
     "text": [
      "There are 15008 training images\n",
      "There are 1120 testing images\n"
     ]
    }
   ],
   "source": [
    "if __name__ == '__main__':\n",
    "    dirlist_train = directory_scan(path_train)\n",
    "    images_train,labels_train,count_train = read_images_in_folder(dirlist_train, path_train)\n",
    "    dirlist_test = directory_scan(path_test)\n",
    "    images_test,labels_test,count_test = read_images_in_folder(dirlist_test, path_test)\n",
    "\n",
    "if __name__ == '__main__':\n",
    "    dirlist_val = directory_scan(path_val)\n",
    "    images_val,labels_val,count_val= read_images_in_folder(dirlist_val, path_val)\n",
    "\n",
    "np.save('npy-color/images_val',images_val)\n",
    "np.save('npy-color/labels_val',labels_val)\n",
    "\n",
    "#save to file\n",
    "np.save('npy-color/images_train',images_train)\n",
    "np.save('npy-color/labels_train',labels_train)\n",
    "np.save('npy-color/images_test',images_test)\n",
    "np.save('npy-color/labels_test',labels_test)\n",
    "\n",
    "print('There are '+ str(count_train) +' training images')\n",
    "print('There are '+ str(count_test) +' testing images')\n",
    "\n",
    "nb_img_train = count_train\n",
    "nb_img_test = count_test"
   ]
  },
  {
   "cell_type": "markdown",
   "metadata": {},
   "source": [
    "#### Load NPY data"
   ]
  },
  {
   "cell_type": "code",
   "execution_count": 2,
   "metadata": {},
   "outputs": [],
   "source": [
    "#LOAD TRAIN\n",
    "#load images\n",
    "train_images = np.load('npy-color/images_train.npy')\n",
    "\n",
    "#load labels\n",
    "train_labels = np.load('npy-color/labels_train.npy')\n",
    "\n",
    "#LOAD TEST\n",
    "#load images\n",
    "test_images = np.load('npy-color/images_test.npy')\n",
    "\n",
    "\n",
    "#load labels\n",
    "test_labels = np.load('npy-color/labels_test.npy')\n",
    "\n",
    "#LOAD VALIDATION\n",
    "#load images\n",
    "val_images = np.load('npy-color/images_val.npy')\n",
    "\n",
    "#load labels\n",
    "val_labels = np.load('npy-color/labels_val.npy')\n",
    "\n",
    "img_size=100"
   ]
  },
  {
   "cell_type": "code",
   "execution_count": 3,
   "metadata": {},
   "outputs": [
    {
     "name": "stdout",
     "output_type": "stream",
     "text": [
      "bed\n"
     ]
    },
    {
     "data": {
      "text/plain": [
       "<matplotlib.image.AxesImage at 0x16db6050b8>"
      ]
     },
     "execution_count": 3,
     "metadata": {},
     "output_type": "execute_result"
    },
    {
     "data": {
      "image/png": "[encoded data removed]",
      "text/plain": [
       "<matplotlib.figure.Figure at 0x16bc75fe80>"
      ]
     },
     "metadata": {},
     "output_type": "display_data"
    }
   ],
   "source": [
    "index = 300\n",
    "print(train_labels[index])\n",
    "plt.imshow(train_images[index])"
   ]
  },
  {
   "cell_type": "code",
   "execution_count": 4,
   "metadata": {},
   "outputs": [],
   "source": [
    "path_train = 'raw_data/train/'\n",
    "path_test = 'raw_data/test/'\n",
    "path_val = 'raw_data/val/'\n",
    "img_size= 100\n",
    "\n",
    "#get folder names\n",
    "def directory_scan(path):\n",
    "    dirlist = [ item for item in os.listdir(path) if os.path.isdir(os.path.join(path, item)) ]\n",
    "    return dirlist\n",
    "\n",
    "dirlist_train = directory_scan(path_train)\n",
    "dirlist_test = directory_scan(path_test)\n",
    "dirlist_val = directory_scan(path_val)\n",
    "\n",
    "nb_img_train = len(train_images)\n",
    "nb_img_test = len(test_images)\n",
    "nb_img_val = len(val_images)"
   ]
  },
  {
   "cell_type": "code",
   "execution_count": 5,
   "metadata": {},
   "outputs": [],
   "source": [
    "#prepare and reshape testing/training sets\n",
    "#img_size = 100\n",
    "#nb_img_train = 1400\n",
    "#nb_img_test = 40\n",
    "\n",
    "train_img = train_images.reshape([-1,img_size,img_size,3])\n",
    "train_img = train_img.astype('float32') / 255\n",
    "\n",
    "test_img = test_images.reshape([-1,img_size,img_size,3])\n",
    "test_img = test_img.astype('float32') / 255\n",
    "\n",
    "val_img = val_images.reshape([-1,img_size,img_size,3])\n",
    "val_img = val_img.astype('float32') / 255"
   ]
  },
  {
   "cell_type": "markdown",
   "metadata": {},
   "source": [
    "#### One Hot Encoding of Labels"
   ]
  },
  {
   "cell_type": "code",
   "execution_count": 6,
   "metadata": {},
   "outputs": [],
   "source": [
    "#LABEL ONE HOT ENCODING\n",
    "#Training\n",
    "k=0\n",
    "for i in range(len(dirlist_train)):\n",
    "    for j in range(len(train_labels)):\n",
    "        if(train_labels[j]==dirlist_train[i]):\n",
    "            train_labels[j]=k\n",
    "    k=k+1\n",
    "\n",
    "#Testing\n",
    "m=0\n",
    "for l in range(len(dirlist_test)):\n",
    "    for h in range(len(test_labels)):\n",
    "        if(test_labels[h]==dirlist_test[l]):\n",
    "            test_labels[h]=m\n",
    "    m=m+1\n",
    "    \n",
    "#Validation\n",
    "g=0\n",
    "for l in range(len(dirlist_val)):\n",
    "    for h in range(len(val_labels)):\n",
    "        if(val_labels[h]==dirlist_val[l]):\n",
    "            val_labels[h]=g\n",
    "    g=g+1"
   ]
  },
  {
   "cell_type": "code",
   "execution_count": 7,
   "metadata": {},
   "outputs": [],
   "source": [
    "train_lab= to_categorical(train_labels)\n",
    "test_lab = to_categorical(test_labels)\n",
    "val_lab = to_categorical(val_labels)"
   ]
  },
  {
   "cell_type": "code",
   "execution_count": 8,
   "metadata": {},
   "outputs": [],
   "source": [
    "def Plot_accuracy(train_acc, Title):\n",
    "    x = [i for i in range(0, len(train_acc))]\n",
    "    y= train_acc\n",
    "    plt.plot(x,y)\n",
    "    plt.ylabel('Accuracy')\n",
    "    plt.xlabel('Steps')\n",
    "    plt.xticks(x)\n",
    "    plt.ylim(ymax=1)\n",
    "    plt.ylim(ymin=0)\n",
    "    plt.xlim(xmin=0)\n",
    "    plt.grid(True)\n",
    "    plt.title(Title)\n",
    "    plt.show()\n",
    "    \n",
    "def Plot_Loss(train_loss, Title):\n",
    "    x = [i for i in range(0, len(train_loss))]\n",
    "    y= train_loss\n",
    "    plt.plot(x,y)\n",
    "    plt.ylabel('Loss')\n",
    "    plt.xlabel('Steps')\n",
    "    plt.xticks(x)\n",
    "    plt.ylim(ymax=2)\n",
    "    plt.ylim(ymin=0)\n",
    "    plt.xlim(xmin=0)\n",
    "    plt.grid(True)\n",
    "    plt.title(Title)\n",
    "    plt.show()"
   ]
  },
  {
   "cell_type": "markdown",
   "metadata": {},
   "source": [
    "--------------------------------------------------------------------------------------------------------------------------------"
   ]
  },
  {
   "cell_type": "markdown",
   "metadata": {},
   "source": [
    "## Transfer Learning"
   ]
  },
  {
   "cell_type": "markdown",
   "metadata": {},
   "source": [
    "https://www.learnopencv.com/keras-tutorial-transfer-learning-using-pre-trained-models/"
   ]
  },
  {
   "cell_type": "markdown",
   "metadata": {},
   "source": [
    "    Import VGG pretrained network"
   ]
  },
  {
   "cell_type": "code",
   "execution_count": 9,
   "metadata": {},
   "outputs": [],
   "source": [
    "from keras import applications"
   ]
  },
  {
   "cell_type": "code",
   "execution_count": 10,
   "metadata": {},
   "outputs": [],
   "source": [
    "conv_base = applications.VGG16(weights='imagenet', include_top=False, input_shape=(100, 100, 3))"
   ]
  },
  {
   "cell_type": "code",
   "execution_count": 11,
   "metadata": {},
   "outputs": [
    {
     "name": "stdout",
     "output_type": "stream",
     "text": [
      "_________________________________________________________________\n",
      "Layer (type)                 Output Shape              Param #   \n",
      "=================================================================\n",
      "input_1 (InputLayer)         (None, 100, 100, 3)       0         \n",
      "_________________________________________________________________\n",
      "block1_conv1 (Conv2D)        (None, 100, 100, 64)      1792      \n",
      "_________________________________________________________________\n",
      "block1_conv2 (Conv2D)        (None, 100, 100, 64)      36928     \n",
      "_________________________________________________________________\n",
      "block1_pool (MaxPooling2D)   (None, 50, 50, 64)        0         \n",
      "_________________________________________________________________\n",
      "block2_conv1 (Conv2D)        (None, 50, 50, 128)       73856     \n",
      "_________________________________________________________________\n",
      "block2_conv2 (Conv2D)        (None, 50, 50, 128)       147584    \n",
      "_________________________________________________________________\n",
      "block2_pool (MaxPooling2D)   (None, 25, 25, 128)       0         \n",
      "_________________________________________________________________\n",
      "block3_conv1 (Conv2D)        (None, 25, 25, 256)       295168    \n",
      "_________________________________________________________________\n",
      "block3_conv2 (Conv2D)        (None, 25, 25, 256)       590080    \n",
      "_________________________________________________________________\n",
      "block3_conv3 (Conv2D)        (None, 25, 25, 256)       590080    \n",
      "_________________________________________________________________\n",
      "block3_pool (MaxPooling2D)   (None, 12, 12, 256)       0         \n",
      "_________________________________________________________________\n",
      "block4_conv1 (Conv2D)        (None, 12, 12, 512)       1180160   \n",
      "_________________________________________________________________\n",
      "block4_conv2 (Conv2D)        (None, 12, 12, 512)       2359808   \n",
      "_________________________________________________________________\n",
      "block4_conv3 (Conv2D)        (None, 12, 12, 512)       2359808   \n",
      "_________________________________________________________________\n",
      "block4_pool (MaxPooling2D)   (None, 6, 6, 512)         0         \n",
      "_________________________________________________________________\n",
      "block5_conv1 (Conv2D)        (None, 6, 6, 512)         2359808   \n",
      "_________________________________________________________________\n",
      "block5_conv2 (Conv2D)        (None, 6, 6, 512)         2359808   \n",
      "_________________________________________________________________\n",
      "block5_conv3 (Conv2D)        (None, 6, 6, 512)         2359808   \n",
      "_________________________________________________________________\n",
      "block5_pool (MaxPooling2D)   (None, 3, 3, 512)         0         \n",
      "=================================================================\n",
      "Total params: 14,714,688\n",
      "Trainable params: 14,714,688\n",
      "Non-trainable params: 0\n",
      "_________________________________________________________________\n"
     ]
    }
   ],
   "source": [
    "conv_base.summary()"
   ]
  },
  {
   "cell_type": "markdown",
   "metadata": {},
   "source": [
    "    Preprocess dataset with VGG model"
   ]
  },
  {
   "cell_type": "code",
   "execution_count": 26,
   "metadata": {},
   "outputs": [],
   "source": [
    "#gets feature maps for dataset based on inital VGG model\n",
    "#    >>from training set to feature map\n",
    "start = time.time()\n",
    "\n",
    "train_features = conv_base.predict(train_img)\n",
    "#train_features = np.reshape(train_features, (len(train_img), 3 * 3 * 512))\n",
    "\n",
    "stop = time.time()\n",
    "print(\"Execution time = \" + str(int(((stop-start)-(stop-start)%60)/60)) +\" min \"+str((stop-start)%60)+\" sec\")"
   ]
  },
  {
   "cell_type": "code",
   "execution_count": 29,
   "metadata": {},
   "outputs": [],
   "source": [
    "#Save feature maps to file\n",
    "np.save('train_features/', train_features)"
   ]
  },
  {
   "cell_type": "code",
   "execution_count": 30,
   "metadata": {},
   "outputs": [],
   "source": [
    "#reshape feature maps to match output of VGG model with input of additional layers\n",
    "train_features_reshaped = np.reshape(train_features, (len(train_img), 3 * 3 * 512))"
   ]
  },
  {
   "cell_type": "code",
   "execution_count": 36,
   "metadata": {},
   "outputs": [],
   "source": [
    "#Save feature maps to file\n",
    "np.save('train_features/train_features', train_features_reshaped)"
   ]
  },
  {
   "cell_type": "code",
   "execution_count": 39,
   "metadata": {},
   "outputs": [],
   "source": [
    "#loads feature map from file\n",
    "train_features_ = np.load('train_features/train_features.npy')"
   ]
  },
  {
   "cell_type": "code",
   "execution_count": null,
   "metadata": {},
   "outputs": [],
   "source": [
    "#gets feature maps for dataset based on inital VGG model\n",
    "#    >>from training set to feature map\n",
    "start = time.time()\n",
    "\n",
    "val_features = conv_base.predict(val_img)\n",
    "#train_features = np.reshape(train_features, (len(train_img), 3 * 3 * 512))\n",
    "\n",
    "stop = time.time()\n",
    "print(\"Execution time = \" + str(int(((stop-start)-(stop-start)%60)/60)) +\" min \"+str((stop-start)%60)+\" sec\")"
   ]
  },
  {
   "cell_type": "code",
   "execution_count": null,
   "metadata": {},
   "outputs": [],
   "source": [
    "val_features = np.reshape(val_features, (len(val_img), 3 * 3 * 512))"
   ]
  },
  {
   "cell_type": "markdown",
   "metadata": {},
   "source": [
    "    Additional network"
   ]
  },
  {
   "cell_type": "code",
   "execution_count": 83,
   "metadata": {},
   "outputs": [],
   "source": [
    "model = models.Sequential()\n",
    "model.add(layers.Dense(256, activation='relu', input_dim=3 * 3 * 512))\n",
    "model.add(layers.Dropout(0.5))\n",
    "model.add(layers.Dense(len(dirlist_train), activation='softmax'))"
   ]
  },
  {
   "cell_type": "code",
   "execution_count": 85,
   "metadata": {},
   "outputs": [
    {
     "name": "stdout",
     "output_type": "stream",
     "text": [
      "Train on 15008 samples, validate on 1120 samples\n",
      "Epoch 1/50\n",
      "15008/15008 [==============================] - 2s 126us/step - loss: 0.2572 - acc: 0.9152 - val_loss: 0.6641 - val_acc: 0.7911\n",
      "Epoch 2/50\n",
      "15008/15008 [==============================] - 2s 105us/step - loss: 0.2384 - acc: 0.9238 - val_loss: 0.6327 - val_acc: 0.7982\n",
      "Epoch 3/50\n",
      "15008/15008 [==============================] - 2s 104us/step - loss: 0.2291 - acc: 0.9274 - val_loss: 0.7205 - val_acc: 0.7750\n",
      "Epoch 4/50\n",
      "15008/15008 [==============================] - 2s 106us/step - loss: 0.2179 - acc: 0.9303 - val_loss: 0.7473 - val_acc: 0.7598\n",
      "Epoch 5/50\n",
      "15008/15008 [==============================] - 2s 107us/step - loss: 0.2119 - acc: 0.9334 - val_loss: 0.6394 - val_acc: 0.7955\n",
      "Epoch 6/50\n",
      "15008/15008 [==============================] - 2s 107us/step - loss: 0.2037 - acc: 0.9350 - val_loss: 0.6772 - val_acc: 0.7884\n",
      "Epoch 7/50\n",
      "15008/15008 [==============================] - 2s 108us/step - loss: 0.1967 - acc: 0.9378 - val_loss: 0.6016 - val_acc: 0.8098\n",
      "Epoch 8/50\n",
      "15008/15008 [==============================] - 2s 107us/step - loss: 0.1940 - acc: 0.9380 - val_loss: 0.6183 - val_acc: 0.8116\n",
      "Epoch 9/50\n",
      "15008/15008 [==============================] - 2s 111us/step - loss: 0.1857 - acc: 0.9417 - val_loss: 0.6628 - val_acc: 0.7812\n",
      "Epoch 10/50\n",
      "15008/15008 [==============================] - 2s 113us/step - loss: 0.1811 - acc: 0.9438 - val_loss: 0.6848 - val_acc: 0.7812\n",
      "Epoch 11/50\n",
      "15008/15008 [==============================] - 2s 107us/step - loss: 0.1728 - acc: 0.9461 - val_loss: 0.6480 - val_acc: 0.8027\n",
      "Epoch 12/50\n",
      "15008/15008 [==============================] - 2s 106us/step - loss: 0.1654 - acc: 0.9495 - val_loss: 0.8428 - val_acc: 0.7455\n",
      "Epoch 13/50\n",
      "15008/15008 [==============================] - 2s 109us/step - loss: 0.1632 - acc: 0.9513 - val_loss: 0.6947 - val_acc: 0.7938\n",
      "Epoch 14/50\n",
      "15008/15008 [==============================] - 2s 108us/step - loss: 0.1597 - acc: 0.9499 - val_loss: 0.6758 - val_acc: 0.7920\n",
      "Epoch 15/50\n",
      "15008/15008 [==============================] - 2s 107us/step - loss: 0.1513 - acc: 0.9546 - val_loss: 0.7062 - val_acc: 0.7911\n",
      "Epoch 16/50\n",
      "15008/15008 [==============================] - 2s 107us/step - loss: 0.1493 - acc: 0.9553 - val_loss: 0.6313 - val_acc: 0.7973\n",
      "Epoch 17/50\n",
      "15008/15008 [==============================] - 2s 108us/step - loss: 0.1424 - acc: 0.9579 - val_loss: 0.7333 - val_acc: 0.7821\n",
      "Epoch 18/50\n",
      "15008/15008 [==============================] - 2s 107us/step - loss: 0.1407 - acc: 0.9572 - val_loss: 0.7017 - val_acc: 0.7893\n",
      "Epoch 19/50\n",
      "15008/15008 [==============================] - 2s 115us/step - loss: 0.1388 - acc: 0.9590 - val_loss: 0.6774 - val_acc: 0.7929\n",
      "Epoch 20/50\n",
      "15008/15008 [==============================] - 2s 111us/step - loss: 0.1349 - acc: 0.9599 - val_loss: 0.6818 - val_acc: 0.8018\n",
      "Epoch 21/50\n",
      "15008/15008 [==============================] - 2s 107us/step - loss: 0.1257 - acc: 0.9640 - val_loss: 0.7413 - val_acc: 0.7911\n",
      "Epoch 22/50\n",
      "15008/15008 [==============================] - 2s 106us/step - loss: 0.1278 - acc: 0.9613 - val_loss: 0.6468 - val_acc: 0.8116\n",
      "Epoch 23/50\n",
      "15008/15008 [==============================] - 2s 106us/step - loss: 0.1205 - acc: 0.9644 - val_loss: 0.6551 - val_acc: 0.8054\n",
      "Epoch 24/50\n",
      "15008/15008 [==============================] - 2s 102us/step - loss: 0.1163 - acc: 0.9659 - val_loss: 0.8288 - val_acc: 0.7688\n",
      "Epoch 25/50\n",
      "15008/15008 [==============================] - 2s 104us/step - loss: 0.1134 - acc: 0.9671 - val_loss: 0.8517 - val_acc: 0.7652\n",
      "Epoch 26/50\n",
      "15008/15008 [==============================] - 2s 109us/step - loss: 0.1127 - acc: 0.9690 - val_loss: 0.7679 - val_acc: 0.7821\n",
      "Epoch 27/50\n",
      "15008/15008 [==============================] - 2s 108us/step - loss: 0.1088 - acc: 0.9695 - val_loss: 0.7870 - val_acc: 0.7866\n",
      "Epoch 28/50\n",
      "15008/15008 [==============================] - 2s 109us/step - loss: 0.1091 - acc: 0.9688 - val_loss: 0.6675 - val_acc: 0.8036\n",
      "Epoch 29/50\n",
      "15008/15008 [==============================] - 2s 114us/step - loss: 0.1052 - acc: 0.9690 - val_loss: 0.6729 - val_acc: 0.8098\n",
      "Epoch 30/50\n",
      "15008/15008 [==============================] - 2s 106us/step - loss: 0.1025 - acc: 0.9693 - val_loss: 0.6919 - val_acc: 0.8089\n",
      "Epoch 31/50\n",
      "15008/15008 [==============================] - 2s 104us/step - loss: 0.0999 - acc: 0.9712 - val_loss: 0.6944 - val_acc: 0.8116\n",
      "Epoch 32/50\n",
      "15008/15008 [==============================] - 2s 101us/step - loss: 0.0977 - acc: 0.9709 - val_loss: 0.7972 - val_acc: 0.7786\n",
      "Epoch 33/50\n",
      "15008/15008 [==============================] - 1s 98us/step - loss: 0.0919 - acc: 0.9755 - val_loss: 0.7119 - val_acc: 0.8062\n",
      "Epoch 34/50\n",
      "15008/15008 [==============================] - 1s 98us/step - loss: 0.0919 - acc: 0.9741 - val_loss: 0.8137 - val_acc: 0.7786\n",
      "Epoch 35/50\n",
      "15008/15008 [==============================] - 1s 97us/step - loss: 0.0918 - acc: 0.9735 - val_loss: 0.7418 - val_acc: 0.8054\n",
      "Epoch 36/50\n",
      "15008/15008 [==============================] - 1s 98us/step - loss: 0.0851 - acc: 0.9760 - val_loss: 0.7937 - val_acc: 0.7902\n",
      "Epoch 37/50\n",
      "15008/15008 [==============================] - 1s 99us/step - loss: 0.0861 - acc: 0.9759 - val_loss: 0.7406 - val_acc: 0.8027\n",
      "Epoch 38/50\n",
      "15008/15008 [==============================] - 1s 98us/step - loss: 0.0808 - acc: 0.9772 - val_loss: 0.8101 - val_acc: 0.7804\n",
      "Epoch 39/50\n",
      "15008/15008 [==============================] - 2s 102us/step - loss: 0.0816 - acc: 0.9760 - val_loss: 0.9837 - val_acc: 0.7393\n",
      "Epoch 40/50\n",
      "15008/15008 [==============================] - 2s 108us/step - loss: 0.0824 - acc: 0.9757 - val_loss: 0.7777 - val_acc: 0.7902\n",
      "Epoch 41/50\n",
      "15008/15008 [==============================] - 2s 101us/step - loss: 0.0771 - acc: 0.9781 - val_loss: 0.6909 - val_acc: 0.8143\n",
      "Epoch 42/50\n",
      "15008/15008 [==============================] - 1s 98us/step - loss: 0.0729 - acc: 0.9789 - val_loss: 0.7325 - val_acc: 0.8098\n",
      "Epoch 43/50\n",
      "15008/15008 [==============================] - 1s 97us/step - loss: 0.0747 - acc: 0.9794 - val_loss: 0.8134 - val_acc: 0.7866\n",
      "Epoch 44/50\n",
      "15008/15008 [==============================] - 1s 98us/step - loss: 0.0705 - acc: 0.9803 - val_loss: 0.7523 - val_acc: 0.7982\n",
      "Epoch 45/50\n",
      "15008/15008 [==============================] - 2s 105us/step - loss: 0.0682 - acc: 0.9802 - val_loss: 0.7759 - val_acc: 0.7938\n",
      "Epoch 46/50\n",
      "15008/15008 [==============================] - 2s 107us/step - loss: 0.0680 - acc: 0.9814 - val_loss: 0.7480 - val_acc: 0.8063\n",
      "Epoch 47/50\n",
      "15008/15008 [==============================] - 2s 105us/step - loss: 0.0665 - acc: 0.9831 - val_loss: 0.7327 - val_acc: 0.8098\n",
      "Epoch 48/50\n",
      "15008/15008 [==============================] - 2s 107us/step - loss: 0.0646 - acc: 0.9831 - val_loss: 0.7362 - val_acc: 0.8161\n",
      "Epoch 49/50\n",
      "15008/15008 [==============================] - 2s 106us/step - loss: 0.0622 - acc: 0.9836 - val_loss: 0.8308 - val_acc: 0.7929\n",
      "Epoch 50/50\n",
      "15008/15008 [==============================] - 2s 112us/step - loss: 0.0650 - acc: 0.9821 - val_loss: 0.7469 - val_acc: 0.8152\n"
     ]
    }
   ],
   "source": [
    "model.compile(optimizer=keras.optimizers.RMSprop(lr=2e-4),\n",
    "              loss='categorical_crossentropy',\n",
    "              metrics=['acc'])\n",
    " \n",
    "history = model.fit(train_features_,\n",
    "                    train_lab,\n",
    "                    epochs=50,\n",
    "                    batch_size=500,\n",
    "                    validation_data=(val_features,val_lab))"
   ]
  },
  {
   "cell_type": "markdown",
   "metadata": {},
   "source": [
    "    Test"
   ]
  },
  {
   "cell_type": "code",
   "execution_count": 97,
   "metadata": {},
   "outputs": [],
   "source": [
    "predictions = model.predict(val_features)\n",
    "\n",
    "#one hot encoding\n",
    "for i in range(len(predictions)):\n",
    "    length = len(predictions[i])\n",
    "    index = np.argmax(predictions[i])\n",
    "    predictions[i][index] = 1\n",
    "    for j in range(length):\n",
    "        if(j != index):\n",
    "            predictions[i][j] = 0"
   ]
  },
  {
   "cell_type": "code",
   "execution_count": 98,
   "metadata": {},
   "outputs": [
    {
     "name": "stdout",
     "output_type": "stream",
     "text": [
      "             precision    recall  f1-score   support\n",
      "\n",
      "        bed       0.83      0.71      0.77       150\n",
      "      bench       0.85      0.56      0.67        70\n",
      "    cabinet       0.81      0.78      0.79       150\n",
      "      chair       0.86      0.94      0.90       150\n",
      "      couch       0.68      0.88      0.77       150\n",
      "       lamp       0.81      0.79      0.80       150\n",
      "      plant       0.95      0.91      0.93       150\n",
      "      table       0.80      0.83      0.81       150\n",
      "\n",
      "avg / total       0.82      0.82      0.81      1120\n",
      "\n"
     ]
    }
   ],
   "source": [
    "print(classification_report(test_lab, predictions, target_names = dirlist_train))"
   ]
  },
  {
   "cell_type": "markdown",
   "metadata": {},
   "source": [
    "------------------------------------------------------------------------------------------------------------------------------"
   ]
  },
  {
   "cell_type": "markdown",
   "metadata": {},
   "source": [
    "# R-CNN : Region based CNN"
   ]
  },
  {
   "cell_type": "markdown",
   "metadata": {},
   "source": [
    "https://github.com/experiencor/basic-yolo-keras"
   ]
  },
  {
   "cell_type": "markdown",
   "metadata": {},
   "source": [
    "https://github.com/philipperemy/yolo-9000"
   ]
  },
  {
   "cell_type": "code",
   "execution_count": null,
   "metadata": {},
   "outputs": [],
   "source": []
  }
 ],
 "metadata": {
  "kernelspec": {
   "display_name": "Python 3",
   "language": "python",
   "name": "python3"
  },
  "language_info": {
   "codemirror_mode": {
    "name": "ipython",
    "version": 3
   },
   "file_extension": ".py",
   "mimetype": "text/x-python",
   "name": "python",
   "nbconvert_exporter": "python",
   "pygments_lexer": "ipython3",
   "version": "3.6.4"
  }
 },
 "nbformat": 4,
 "nbformat_minor": 2
}
