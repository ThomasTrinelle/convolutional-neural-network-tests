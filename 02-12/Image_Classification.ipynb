{
 "cells": [
  {
   "cell_type": "markdown",
   "metadata": {},
   "source": [
    "# 3D Objects Recognition\n",
    "\n",
    "#### Neural Network for Suggestive CAD"
   ]
  },
  {
   "cell_type": "markdown",
   "metadata": {},
   "source": [
    "--------------------------------------------------------------------------------------------------------------------------------"
   ]
  },
  {
   "cell_type": "markdown",
   "metadata": {},
   "source": [
    "    Import packages"
   ]
  },
  {
   "cell_type": "code",
   "execution_count": null,
   "metadata": {},
   "outputs": [],
   "source": [
    "import numpy\n",
    "import collections\n",
    "from tensorflow.python.framework import dtypes\n",
    "\n",
    "from os import listdir\n",
    "import os\n",
    "from os.path import isfile, join\n",
    "import numpy as np\n",
    "import cv2\n",
    "\n",
    "import matplotlib.pylab as plt\n",
    "%matplotlib inline\n",
    "\n",
    "from __future__ import division\n",
    "from __future__ import print_function\n",
    "\n",
    "import argparse\n",
    "import sys\n",
    "\n",
    "import glob\n",
    "import param\n",
    "import time\n",
    "\n",
    "from ipywidgets import interact, interactive, fixed, interact_manual\n",
    "import ipywidgets as widgets\n",
    "import IPython.display as display\n",
    "\n",
    "import tensorflow as tf\n",
    "\n",
    "import pydotplus as pydot\n",
    "import graphviz"
   ]
  },
  {
   "cell_type": "code",
   "execution_count": null,
   "metadata": {},
   "outputs": [],
   "source": [
    "###From https://gist.github.com/ambodi/408301bc5bc07bc5afa8748513ab9477#file-dataset-py-L74"
   ]
  },
  {
   "cell_type": "code",
   "execution_count": 3,
   "metadata": {},
   "outputs": [],
   "source": [
    "###Data from  https://www.kaggle.com/c/dogs-vs-cats/data"
   ]
  },
  {
   "cell_type": "markdown",
   "metadata": {},
   "source": [
    "## Saving raw data to npy"
   ]
  },
  {
   "cell_type": "markdown",
   "metadata": {},
   "source": [
    "#### Load data"
   ]
  },
  {
   "cell_type": "code",
   "execution_count": 46,
   "metadata": {},
   "outputs": [
    {
     "name": "stdout",
     "output_type": "stream",
     "text": [
      "There are 15008 training images\n",
      "There are 1120 testing images\n"
     ]
    }
   ],
   "source": [
    "#path to directory\n",
    "path_train = 'raw_data/train/'\n",
    "path_test = 'raw_data/test/'\n",
    "img_size= 100\n",
    "\n",
    "#get folder names\n",
    "def directory_scan(path):\n",
    "    dirlist = [ item for item in os.listdir(path) if os.path.isdir(os.path.join(path, item)) ]\n",
    "    return dirlist\n",
    "\n",
    "#build labels and image arrays, resize image to 100*100\n",
    "def read_images_in_folder(dirlist, path):\n",
    "    images=[]\n",
    "    labels = []\n",
    "    count = 0\n",
    "    for i in range(len(dirlist)):\n",
    "        image_stack = []\n",
    "        for img in glob.glob(path+dirlist[i]+'/*jpg'):\n",
    "            count=count+1\n",
    "            labels.append(dirlist[i])\n",
    "            IMG = cv2.imread(img)\n",
    "            #RGB to grey scale\n",
    "            IMG_2= cv2.cvtColor( IMG, cv2.COLOR_RGB2GRAY )\n",
    "            #resize to 100*100\n",
    "            im_resize = cv2.resize(IMG_2, (img_size, img_size), interpolation=cv2.INTER_CUBIC)\n",
    "            images.append(im_resize)\n",
    "        #np_images = np.array(image_stack)\n",
    "        \n",
    "    return images, labels, count\n",
    "\n",
    "if __name__ == '__main__':\n",
    "    dirlist_train = directory_scan(path_train)\n",
    "    images_train,labels_train,count_train = read_images_in_folder(dirlist_train, path_train)\n",
    "    dirlist_test = directory_scan(path_test)\n",
    "    images_test,labels_test,count_test = read_images_in_folder(dirlist_test, path_test)\n",
    "\n",
    "#save to file\n",
    "np.save('npy/images_train',images_train)\n",
    "np.save('npy/labels_train',labels_train)\n",
    "np.save('npy/images_test',images_test)\n",
    "np.save('npy/labels_test',labels_test)\n",
    "\n",
    "print('There are '+ str(count_train) +' training images')\n",
    "print('There are '+ str(count_test) +' testing images')\n",
    "\n",
    "nb_img_train = count_train\n",
    "nb_img_test = count_test"
   ]
  },
  {
   "cell_type": "markdown",
   "metadata": {},
   "source": [
    "#### Load NPY data"
   ]
  },
  {
   "cell_type": "code",
   "execution_count": 2,
   "metadata": {},
   "outputs": [],
   "source": [
    "#LOAD TRAIN\n",
    "#load images\n",
    "train_images = np.load('npy/images_train.npy')\n",
    "\n",
    "#load labels\n",
    "train_labels = np.load('npy/labels_train.npy')\n",
    "\n",
    "#LOAD TEST\n",
    "#load images\n",
    "test_images = np.load('npy/images_test.npy')\n",
    "\n",
    "#load labels\n",
    "test_labels = np.load('npy/labels_test.npy')\n",
    "\n",
    "img_size=100"
   ]
  },
  {
   "cell_type": "code",
   "execution_count": 3,
   "metadata": {},
   "outputs": [
    {
     "name": "stdout",
     "output_type": "stream",
     "text": [
      "bed\n"
     ]
    },
    {
     "data": {
      "text/plain": [
       "<matplotlib.image.AxesImage at 0xdb784bf60>"
      ]
     },
     "execution_count": 3,
     "metadata": {},
     "output_type": "execute_result"
    },
    {
     "data": {
      "image/png": "[encoded data removed]",
      "text/plain": [
       "<matplotlib.figure.Figure at 0xdade1e630>"
      ]
     },
     "metadata": {},
     "output_type": "display_data"
    }
   ],
   "source": [
    "index = 50\n",
    "print(train_labels[index])\n",
    "plt.imshow(train_images[index])"
   ]
  },
  {
   "cell_type": "code",
   "execution_count": 4,
   "metadata": {},
   "outputs": [],
   "source": [
    "path_train = 'raw_data/train/'\n",
    "path_test = 'raw_data/test/'\n",
    "img_size= 100\n",
    "\n",
    "#get folder names\n",
    "def directory_scan(path):\n",
    "    dirlist = [ item for item in os.listdir(path) if os.path.isdir(os.path.join(path, item)) ]\n",
    "    return dirlist\n",
    "\n",
    "dirlist_train = directory_scan(path_train)\n",
    "dirlist_test = directory_scan(path_test)\n",
    "\n",
    "nb_img_train = len(train_images)\n",
    "nb_img_test = len(test_images)"
   ]
  },
  {
   "cell_type": "code",
   "execution_count": 5,
   "metadata": {},
   "outputs": [],
   "source": [
    "#prepare and reshape testing/training sets\n",
    "#img_size = 100\n",
    "#nb_img_train = 1400\n",
    "#nb_img_test = 40\n",
    "\n",
    "train_img = train_images.reshape((nb_img_train, img_size * img_size))\n",
    "train_img = train_img.astype('float32') / 255\n",
    "\n",
    "test_img = test_images.reshape([-1,img_size,img_size,1])\n",
    "test_img = test_img.astype('float32') / 255"
   ]
  },
  {
   "cell_type": "markdown",
   "metadata": {},
   "source": [
    "#### One Hot Encoding of Labels"
   ]
  },
  {
   "cell_type": "code",
   "execution_count": 6,
   "metadata": {},
   "outputs": [],
   "source": [
    "#LABEL ONE HOT ENCODING\n",
    "#Training\n",
    "k=0\n",
    "for i in range(len(dirlist_train)):\n",
    "    for j in range(len(train_labels)):\n",
    "        if(train_labels[j]==dirlist_train[i]):\n",
    "            train_labels[j]=k\n",
    "    k=k+1\n",
    "\n",
    "#Testing\n",
    "m=0\n",
    "for l in range(len(dirlist_test)):\n",
    "    for h in range(len(test_labels)):\n",
    "        if(test_labels[h]==dirlist_test[l]):\n",
    "            test_labels[h]=m\n",
    "    m=m+1"
   ]
  },
  {
   "cell_type": "code",
   "execution_count": 29,
   "metadata": {},
   "outputs": [],
   "source": [
    "from keras import models\n",
    "from keras import layers\n",
    "\n",
    "from keras.utils import to_categorical\n",
    "\n",
    "from keras.layers import Dense, Dropout, Activation\n",
    "\n",
    "from IPython.display import SVG\n",
    "from keras.utils.vis_utils import model_to_dot\n",
    "\n",
    "from keras.callbacks import History \n",
    "\n",
    "train_lab= to_categorical(train_labels)\n",
    "test_lab = to_categorical(test_labels)\n",
    "\n",
    "def Plot_accuracy(train_acc, Title):\n",
    "    x = [i for i in range(0, len(train_acc))]\n",
    "    y= train_acc\n",
    "    plt.plot(x,y)\n",
    "    plt.ylabel('Accuracy')\n",
    "    plt.xlabel('Steps')\n",
    "    plt.xticks(x)\n",
    "    plt.ylim(ymax=1)\n",
    "    plt.ylim(ymin=0)\n",
    "    plt.xlim(xmin=0)\n",
    "    plt.grid(True)\n",
    "    plt.title(Title)\n",
    "    plt.show()\n",
    "    \n",
    "def Plot_Loss(train_loss, Title):\n",
    "    x = [i for i in range(0, len(train_loss))]\n",
    "    y= train_loss\n",
    "    plt.plot(x,y)\n",
    "    plt.ylabel('Loss')\n",
    "    plt.xlabel('Steps')\n",
    "    plt.xticks(x)\n",
    "    plt.ylim(ymax=2)\n",
    "    plt.ylim(ymin=0)\n",
    "    plt.xlim(xmin=0)\n",
    "    plt.grid(True)\n",
    "    plt.title(Title)\n",
    "    plt.show()"
   ]
  },
  {
   "cell_type": "markdown",
   "metadata": {},
   "source": [
    "--------------------------------------------------------------------------------------------------------------------------------"
   ]
  },
  {
   "cell_type": "markdown",
   "metadata": {},
   "source": [
    "## Neural Net Model"
   ]
  },
  {
   "cell_type": "markdown",
   "metadata": {},
   "source": [
    "    Generate Computational Graph"
   ]
  },
  {
   "cell_type": "code",
   "execution_count": 129,
   "metadata": {},
   "outputs": [],
   "source": [
    "#initializes the model\n",
    "network = models.Sequential()\n",
    "\n",
    "#BUILD COMPUTATIONAL GRAPH\n",
    "network.add(layers.Dense(200, activation='relu', input_shape=(100 * 100,)))\n",
    "\n",
    "network.add(layers.Dense(300, activation='relu'))\n",
    "\n",
    "network.add(layers.Dense(400, activation='relu'))\n",
    "\n",
    "network.add(layers.Dense(200, activation='relu'))\n",
    "\n",
    "network.add(Dropout(0.7))\n",
    "\n",
    "network.add(layers.Dense(300, activation='relu'))\n",
    "\n",
    "network.add(Dropout(0.7))\n",
    "\n",
    "network.add(layers.Dense(300, activation='relu'))\n",
    "\n",
    "network.add(layers.Dense(len(dirlist_train), activation='softmax'))"
   ]
  },
  {
   "cell_type": "code",
   "execution_count": 44,
   "metadata": {},
   "outputs": [],
   "source": [
    "#Load previous model weights\n",
    "network.load_weights('saved_models/network_weights.h5', by_name=True)"
   ]
  },
  {
   "cell_type": "code",
   "execution_count": 130,
   "metadata": {},
   "outputs": [],
   "source": [
    "#SETS PERFORMANCE METRICS\n",
    "\n",
    "network.compile(optimizer='Adam',\n",
    "                loss='categorical_crossentropy',\n",
    "                metrics=['accuracy'])\n",
    "\n",
    "#SVG(model_to_dot(network).create(prog='dot', format='svg'))\n",
    "\n",
    "#from keras.utils import plot_model\n",
    "#plot_model(network, to_file='model.png')"
   ]
  },
  {
   "cell_type": "markdown",
   "metadata": {},
   "source": [
    "    Train Model"
   ]
  },
  {
   "cell_type": "code",
   "execution_count": 131,
   "metadata": {
    "scrolled": false
   },
   "outputs": [
    {
     "name": "stdout",
     "output_type": "stream",
     "text": [
      "Epoch 1/200\n",
      "15008/15008 [==============================] - 5s 301us/step - loss: 2.1188 - acc: 0.1854\n",
      "Epoch 2/200\n",
      "15008/15008 [==============================] - 3s 207us/step - loss: 1.8986 - acc: 0.2350\n",
      "Epoch 3/200\n",
      "15008/15008 [==============================] - 3s 195us/step - loss: 1.7953 - acc: 0.3008\n",
      "Epoch 4/200\n",
      "15008/15008 [==============================] - 3s 197us/step - loss: 1.7241 - acc: 0.3565\n",
      "Epoch 5/200\n",
      "15008/15008 [==============================] - 3s 194us/step - loss: 1.6421 - acc: 0.4007\n",
      "Epoch 6/200\n",
      "15008/15008 [==============================] - 3s 197us/step - loss: 1.6055 - acc: 0.4216\n",
      "Epoch 7/200\n",
      "15008/15008 [==============================] - 3s 212us/step - loss: 1.5825 - acc: 0.4320\n",
      "Epoch 8/200\n",
      "15008/15008 [==============================] - 3s 200us/step - loss: 1.5269 - acc: 0.4589\n",
      "Epoch 9/200\n",
      "15008/15008 [==============================] - 3s 196us/step - loss: 1.4846 - acc: 0.4734\n",
      "Epoch 10/200\n",
      "15008/15008 [==============================] - 3s 194us/step - loss: 1.4285 - acc: 0.4925\n",
      "Epoch 11/200\n",
      "15008/15008 [==============================] - 3s 191us/step - loss: 1.4602 - acc: 0.4893\n",
      "Epoch 12/200\n",
      "15008/15008 [==============================] - 3s 208us/step - loss: 1.3918 - acc: 0.5125\n",
      "Epoch 13/200\n",
      "15008/15008 [==============================] - 3s 206us/step - loss: 1.3578 - acc: 0.5279\n",
      "Epoch 14/200\n",
      "15008/15008 [==============================] - 3s 205us/step - loss: 1.3902 - acc: 0.5130\n",
      "Epoch 15/200\n",
      "15008/15008 [==============================] - 3s 195us/step - loss: 1.3362 - acc: 0.5348\n",
      "Epoch 16/200\n",
      "15008/15008 [==============================] - 3s 190us/step - loss: 1.2899 - acc: 0.5528\n",
      "Epoch 17/200\n",
      "15008/15008 [==============================] - 3s 201us/step - loss: 1.2765 - acc: 0.5577\n",
      "Epoch 18/200\n",
      "15008/15008 [==============================] - 3s 193us/step - loss: 1.2465 - acc: 0.5692\n",
      "Epoch 19/200\n",
      "15008/15008 [==============================] - 3s 190us/step - loss: 1.2459 - acc: 0.5711\n",
      "Epoch 20/200\n",
      "15008/15008 [==============================] - 3s 204us/step - loss: 1.2383 - acc: 0.5716\n",
      "Epoch 21/200\n",
      "15008/15008 [==============================] - 3s 193us/step - loss: 1.2278 - acc: 0.5742\n",
      "Epoch 22/200\n",
      "15008/15008 [==============================] - 3s 189us/step - loss: 1.1690 - acc: 0.5931\n",
      "Epoch 23/200\n",
      "15008/15008 [==============================] - 3s 189us/step - loss: 1.2368 - acc: 0.5760\n",
      "Epoch 24/200\n",
      "15008/15008 [==============================] - 3s 183us/step - loss: 1.1856 - acc: 0.5906\n",
      "Epoch 25/200\n",
      "15008/15008 [==============================] - 3s 189us/step - loss: 1.1454 - acc: 0.6073\n",
      "Epoch 26/200\n",
      "15008/15008 [==============================] - 3s 193us/step - loss: 1.1328 - acc: 0.6144\n",
      "Epoch 27/200\n",
      "15008/15008 [==============================] - 3s 230us/step - loss: 1.1329 - acc: 0.6116\n",
      "Epoch 28/200\n",
      "15008/15008 [==============================] - 3s 226us/step - loss: 1.1536 - acc: 0.6004\n",
      "Epoch 29/200\n",
      "15008/15008 [==============================] - 3s 203us/step - loss: 1.0988 - acc: 0.6249\n",
      "Epoch 30/200\n",
      "15008/15008 [==============================] - 3s 189us/step - loss: 1.0690 - acc: 0.6380\n",
      "Epoch 31/200\n",
      "15008/15008 [==============================] - 3s 183us/step - loss: 1.0579 - acc: 0.6375\n",
      "Epoch 32/200\n",
      "15008/15008 [==============================] - 3s 182us/step - loss: 1.0631 - acc: 0.6417\n",
      "Epoch 33/200\n",
      "15008/15008 [==============================] - 3s 185us/step - loss: 1.0455 - acc: 0.6461\n",
      "Epoch 34/200\n",
      "15008/15008 [==============================] - 3s 186us/step - loss: 1.0445 - acc: 0.6466\n",
      "Epoch 35/200\n",
      "15008/15008 [==============================] - 3s 180us/step - loss: 1.0006 - acc: 0.6637\n",
      "Epoch 36/200\n",
      "15008/15008 [==============================] - 3s 183us/step - loss: 1.0272 - acc: 0.6510\n",
      "Epoch 37/200\n",
      "15008/15008 [==============================] - 3s 182us/step - loss: 0.9861 - acc: 0.6662\n",
      "Epoch 38/200\n",
      "15008/15008 [==============================] - 3s 182us/step - loss: 0.9905 - acc: 0.6648\n",
      "Epoch 39/200\n",
      "15008/15008 [==============================] - 3s 195us/step - loss: 0.9447 - acc: 0.6804\n",
      "Epoch 40/200\n",
      "15008/15008 [==============================] - 3s 186us/step - loss: 0.9607 - acc: 0.6778\n",
      "Epoch 41/200\n",
      "15008/15008 [==============================] - 3s 180us/step - loss: 0.9166 - acc: 0.6913\n",
      "Epoch 42/200\n",
      "15008/15008 [==============================] - 3s 180us/step - loss: 0.9140 - acc: 0.6924\n",
      "Epoch 43/200\n",
      "15008/15008 [==============================] - 3s 181us/step - loss: 0.9176 - acc: 0.6884\n",
      "Epoch 44/200\n",
      "15008/15008 [==============================] - 3s 181us/step - loss: 0.9009 - acc: 0.6972\n",
      "Epoch 45/200\n",
      "15008/15008 [==============================] - 3s 202us/step - loss: 0.8726 - acc: 0.7080\n",
      "Epoch 46/200\n",
      "15008/15008 [==============================] - 3s 200us/step - loss: 0.8758 - acc: 0.7074\n",
      "Epoch 47/200\n",
      "15008/15008 [==============================] - 3s 201us/step - loss: 0.8539 - acc: 0.7150\n",
      "Epoch 48/200\n",
      "15008/15008 [==============================] - 3s 201us/step - loss: 0.8914 - acc: 0.7013\n",
      "Epoch 49/200\n",
      "15008/15008 [==============================] - 3s 196us/step - loss: 0.9533 - acc: 0.6838\n",
      "Epoch 50/200\n",
      "15008/15008 [==============================] - 3s 195us/step - loss: 0.8314 - acc: 0.7217\n",
      "Epoch 51/200\n",
      "15008/15008 [==============================] - 3s 188us/step - loss: 0.8519 - acc: 0.7137\n",
      "Epoch 52/200\n",
      "15008/15008 [==============================] - 3s 196us/step - loss: 0.8147 - acc: 0.7280\n",
      "Epoch 53/200\n",
      "15008/15008 [==============================] - 3s 196us/step - loss: 0.7769 - acc: 0.7415\n",
      "Epoch 54/200\n",
      "15008/15008 [==============================] - 3s 189us/step - loss: 0.7988 - acc: 0.7321\n",
      "Epoch 55/200\n",
      "15008/15008 [==============================] - 3s 205us/step - loss: 0.8458 - acc: 0.7178\n",
      "Epoch 56/200\n",
      "15008/15008 [==============================] - 3s 200us/step - loss: 0.8499 - acc: 0.7136\n",
      "Epoch 57/200\n",
      "15008/15008 [==============================] - 3s 201us/step - loss: 0.7517 - acc: 0.7484\n",
      "Epoch 58/200\n",
      "15008/15008 [==============================] - 3s 187us/step - loss: 0.7307 - acc: 0.7543\n",
      "Epoch 59/200\n",
      "15008/15008 [==============================] - 3s 196us/step - loss: 0.7369 - acc: 0.7566\n",
      "Epoch 60/200\n",
      "15008/15008 [==============================] - 3s 208us/step - loss: 0.8253 - acc: 0.7249\n",
      "Epoch 61/200\n",
      "15008/15008 [==============================] - 3s 202us/step - loss: 0.7387 - acc: 0.7545\n",
      "Epoch 62/200\n",
      "15008/15008 [==============================] - 3s 198us/step - loss: 0.7036 - acc: 0.7639\n",
      "Epoch 63/200\n",
      "15008/15008 [==============================] - 3s 199us/step - loss: 0.6991 - acc: 0.7713\n",
      "Epoch 64/200\n",
      "15008/15008 [==============================] - 3s 195us/step - loss: 0.6621 - acc: 0.7848\n",
      "Epoch 65/200\n",
      "15008/15008 [==============================] - 3s 210us/step - loss: 0.6623 - acc: 0.7825\n",
      "Epoch 66/200\n",
      "15008/15008 [==============================] - 3s 201us/step - loss: 0.6405 - acc: 0.7886\n",
      "Epoch 67/200\n",
      "15008/15008 [==============================] - 3s 227us/step - loss: 0.6864 - acc: 0.7741\n",
      "Epoch 68/200\n",
      "15008/15008 [==============================] - 3s 199us/step - loss: 0.6204 - acc: 0.7966\n",
      "Epoch 69/200\n",
      "15008/15008 [==============================] - 3s 203us/step - loss: 0.6642 - acc: 0.7800\n",
      "Epoch 70/200\n",
      "15008/15008 [==============================] - 3s 199us/step - loss: 0.6712 - acc: 0.7763\n",
      "Epoch 71/200\n",
      "15008/15008 [==============================] - 3s 208us/step - loss: 0.6459 - acc: 0.7862\n",
      "Epoch 72/200\n",
      "15008/15008 [==============================] - 3s 206us/step - loss: 0.6174 - acc: 0.7950\n",
      "Epoch 73/200\n",
      "15008/15008 [==============================] - 3s 202us/step - loss: 0.5929 - acc: 0.8073\n",
      "Epoch 74/200\n",
      "15008/15008 [==============================] - 3s 203us/step - loss: 0.5630 - acc: 0.8160\n",
      "Epoch 75/200\n",
      "15008/15008 [==============================] - 3s 209us/step - loss: 0.5826 - acc: 0.8108\n",
      "Epoch 76/200\n",
      "15008/15008 [==============================] - 3s 190us/step - loss: 0.6331 - acc: 0.7926\n",
      "Epoch 77/200\n",
      "15008/15008 [==============================] - 3s 215us/step - loss: 0.5897 - acc: 0.8079\n",
      "Epoch 78/200\n",
      "15008/15008 [==============================] - 3s 206us/step - loss: 0.5811 - acc: 0.8090\n",
      "Epoch 79/200\n",
      "15008/15008 [==============================] - 3s 189us/step - loss: 0.5673 - acc: 0.8141\n",
      "Epoch 80/200\n"
     ]
    },
    {
     "name": "stdout",
     "output_type": "stream",
     "text": [
      "15008/15008 [==============================] - 3s 184us/step - loss: 0.6303 - acc: 0.7936\n",
      "Epoch 81/200\n",
      "15008/15008 [==============================] - 3s 184us/step - loss: 0.7227 - acc: 0.7622\n",
      "Epoch 82/200\n",
      "15008/15008 [==============================] - 3s 188us/step - loss: 0.6200 - acc: 0.7922\n",
      "Epoch 83/200\n",
      "15008/15008 [==============================] - 3s 190us/step - loss: 0.5830 - acc: 0.8091\n",
      "Epoch 84/200\n",
      "15008/15008 [==============================] - 3s 184us/step - loss: 0.5699 - acc: 0.8148\n",
      "Epoch 85/200\n",
      "15008/15008 [==============================] - 3s 198us/step - loss: 0.5188 - acc: 0.8316\n",
      "Epoch 86/200\n",
      "15008/15008 [==============================] - 3s 193us/step - loss: 0.4800 - acc: 0.8426\n",
      "Epoch 87/200\n",
      "15008/15008 [==============================] - 3s 193us/step - loss: 0.5265 - acc: 0.8274\n",
      "Epoch 88/200\n",
      "15008/15008 [==============================] - 3s 207us/step - loss: 0.5555 - acc: 0.8187\n",
      "Epoch 89/200\n",
      "15008/15008 [==============================] - 3s 187us/step - loss: 0.5394 - acc: 0.8236\n",
      "Epoch 90/200\n",
      "15008/15008 [==============================] - 3s 189us/step - loss: 0.4540 - acc: 0.8535\n",
      "Epoch 91/200\n",
      "15008/15008 [==============================] - 3s 189us/step - loss: 0.4528 - acc: 0.8551\n",
      "Epoch 92/200\n",
      "15008/15008 [==============================] - 3s 191us/step - loss: 0.4328 - acc: 0.8573\n",
      "Epoch 93/200\n",
      "15008/15008 [==============================] - 3s 200us/step - loss: 0.4865 - acc: 0.8407\n",
      "Epoch 94/200\n",
      "15008/15008 [==============================] - 3s 200us/step - loss: 0.5060 - acc: 0.8365\n",
      "Epoch 95/200\n",
      "15008/15008 [==============================] - 3s 193us/step - loss: 0.4807 - acc: 0.8432\n",
      "Epoch 96/200\n",
      "15008/15008 [==============================] - 3s 194us/step - loss: 0.4460 - acc: 0.8525\n",
      "Epoch 97/200\n",
      "15008/15008 [==============================] - 3s 202us/step - loss: 0.4611 - acc: 0.8507\n",
      "Epoch 98/200\n",
      "15008/15008 [==============================] - 3s 194us/step - loss: 0.4373 - acc: 0.8590\n",
      "Epoch 99/200\n",
      "15008/15008 [==============================] - 3s 213us/step - loss: 0.4172 - acc: 0.8641\n",
      "Epoch 100/200\n",
      "15008/15008 [==============================] - 3s 191us/step - loss: 0.4718 - acc: 0.8470\n",
      "Epoch 101/200\n",
      "15008/15008 [==============================] - 3s 193us/step - loss: 0.4459 - acc: 0.8556\n",
      "Epoch 102/200\n",
      "15008/15008 [==============================] - 3s 201us/step - loss: 0.3946 - acc: 0.8752\n",
      "Epoch 103/200\n",
      "15008/15008 [==============================] - 3s 197us/step - loss: 0.3667 - acc: 0.8814\n",
      "Epoch 104/200\n",
      "15008/15008 [==============================] - 3s 190us/step - loss: 0.4190 - acc: 0.8657\n",
      "Epoch 105/200\n",
      "15008/15008 [==============================] - 3s 186us/step - loss: 0.5467 - acc: 0.8248\n",
      "Epoch 106/200\n",
      "15008/15008 [==============================] - 3s 182us/step - loss: 0.4583 - acc: 0.8499\n",
      "Epoch 107/200\n",
      "15008/15008 [==============================] - 3s 183us/step - loss: 0.4079 - acc: 0.8684\n",
      "Epoch 108/200\n",
      "15008/15008 [==============================] - 3s 193us/step - loss: 0.4398 - acc: 0.8552\n",
      "Epoch 109/200\n",
      "15008/15008 [==============================] - 3s 184us/step - loss: 0.3820 - acc: 0.8762\n",
      "Epoch 110/200\n",
      "15008/15008 [==============================] - 3s 194us/step - loss: 0.4365 - acc: 0.8551\n",
      "Epoch 111/200\n",
      "15008/15008 [==============================] - 3s 183us/step - loss: 0.3776 - acc: 0.8787\n",
      "Epoch 112/200\n",
      "15008/15008 [==============================] - 3s 196us/step - loss: 0.3739 - acc: 0.8777\n",
      "Epoch 113/200\n",
      "15008/15008 [==============================] - 3s 188us/step - loss: 0.3893 - acc: 0.8739\n",
      "Epoch 114/200\n",
      "15008/15008 [==============================] - 3s 196us/step - loss: 0.3567 - acc: 0.8849\n",
      "Epoch 115/200\n",
      "15008/15008 [==============================] - 3s 204us/step - loss: 0.3241 - acc: 0.8957\n",
      "Epoch 116/200\n",
      "15008/15008 [==============================] - 3s 193us/step - loss: 0.3630 - acc: 0.8849\n",
      "Epoch 117/200\n",
      "15008/15008 [==============================] - 3s 185us/step - loss: 0.3787 - acc: 0.8779\n",
      "Epoch 118/200\n",
      "15008/15008 [==============================] - 3s 187us/step - loss: 0.3354 - acc: 0.8909\n",
      "Epoch 119/200\n",
      "15008/15008 [==============================] - 3s 196us/step - loss: 0.3391 - acc: 0.8908\n",
      "Epoch 120/200\n",
      "15008/15008 [==============================] - 3s 194us/step - loss: 0.4136 - acc: 0.8673\n",
      "Epoch 121/200\n",
      "15008/15008 [==============================] - 3s 198us/step - loss: 0.3538 - acc: 0.8851\n",
      "Epoch 122/200\n",
      "15008/15008 [==============================] - 3s 195us/step - loss: 0.3019 - acc: 0.9056\n",
      "Epoch 123/200\n",
      "15008/15008 [==============================] - 3s 198us/step - loss: 0.2847 - acc: 0.9092\n",
      "Epoch 124/200\n",
      "15008/15008 [==============================] - 3s 188us/step - loss: 0.2729 - acc: 0.9138\n",
      "Epoch 125/200\n",
      "15008/15008 [==============================] - 3s 185us/step - loss: 0.3351 - acc: 0.8961\n",
      "Epoch 126/200\n",
      "15008/15008 [==============================] - 3s 191us/step - loss: 0.3444 - acc: 0.8872\n",
      "Epoch 127/200\n",
      "15008/15008 [==============================] - 3s 197us/step - loss: 0.4116 - acc: 0.8693\n",
      "Epoch 128/200\n",
      "15008/15008 [==============================] - 3s 185us/step - loss: 0.3745 - acc: 0.8793\n",
      "Epoch 129/200\n",
      "15008/15008 [==============================] - 3s 185us/step - loss: 0.3169 - acc: 0.8985\n",
      "Epoch 130/200\n",
      "15008/15008 [==============================] - 3s 183us/step - loss: 0.3008 - acc: 0.9031\n",
      "Epoch 131/200\n",
      "15008/15008 [==============================] - 3s 183us/step - loss: 0.2957 - acc: 0.9055\n",
      "Epoch 132/200\n",
      "15008/15008 [==============================] - 3s 189us/step - loss: 0.3609 - acc: 0.8833\n",
      "Epoch 133/200\n",
      "15008/15008 [==============================] - 3s 186us/step - loss: 0.3198 - acc: 0.8960\n",
      "Epoch 134/200\n",
      "15008/15008 [==============================] - 3s 182us/step - loss: 0.3254 - acc: 0.8985\n",
      "Epoch 135/200\n",
      "15008/15008 [==============================] - 3s 182us/step - loss: 0.3695 - acc: 0.8805\n",
      "Epoch 136/200\n",
      "15008/15008 [==============================] - 3s 181us/step - loss: 0.3101 - acc: 0.9007\n",
      "Epoch 137/200\n",
      "15008/15008 [==============================] - 3s 182us/step - loss: 0.2727 - acc: 0.9134\n",
      "Epoch 138/200\n",
      "15008/15008 [==============================] - 3s 191us/step - loss: 0.2543 - acc: 0.9182\n",
      "Epoch 139/200\n",
      "15008/15008 [==============================] - 3s 183us/step - loss: 0.2753 - acc: 0.9118\n",
      "Epoch 140/200\n",
      "15008/15008 [==============================] - 3s 182us/step - loss: 0.2604 - acc: 0.9158\n",
      "Epoch 141/200\n",
      "15008/15008 [==============================] - 3s 182us/step - loss: 0.2346 - acc: 0.9246\n",
      "Epoch 142/200\n",
      "15008/15008 [==============================] - 3s 195us/step - loss: 0.3434 - acc: 0.8949\n",
      "Epoch 143/200\n",
      "15008/15008 [==============================] - 3s 197us/step - loss: 0.3799 - acc: 0.8763\n",
      "Epoch 144/200\n",
      "15008/15008 [==============================] - 3s 205us/step - loss: 0.2803 - acc: 0.9078\n",
      "Epoch 145/200\n",
      "15008/15008 [==============================] - 3s 188us/step - loss: 0.2259 - acc: 0.9283\n",
      "Epoch 146/200\n",
      "15008/15008 [==============================] - 3s 188us/step - loss: 0.2166 - acc: 0.9328\n",
      "Epoch 147/200\n",
      "15008/15008 [==============================] - 3s 189us/step - loss: 0.2071 - acc: 0.9324\n",
      "Epoch 148/200\n",
      "15008/15008 [==============================] - 3s 189us/step - loss: 0.2377 - acc: 0.9211\n",
      "Epoch 149/200\n",
      "15008/15008 [==============================] - 3s 192us/step - loss: 0.2470 - acc: 0.9215\n",
      "Epoch 150/200\n",
      "15008/15008 [==============================] - 3s 195us/step - loss: 0.2341 - acc: 0.9243\n",
      "Epoch 151/200\n",
      "15008/15008 [==============================] - 3s 213us/step - loss: 0.2707 - acc: 0.9121\n",
      "Epoch 152/200\n",
      "15008/15008 [==============================] - 3s 212us/step - loss: 0.4597 - acc: 0.8563\n",
      "Epoch 153/200\n",
      "15008/15008 [==============================] - 3s 225us/step - loss: 0.3332 - acc: 0.8939\n",
      "Epoch 154/200\n",
      "15008/15008 [==============================] - 3s 215us/step - loss: 0.2289 - acc: 0.9284\n",
      "Epoch 155/200\n",
      "15008/15008 [==============================] - 3s 203us/step - loss: 0.1850 - acc: 0.9412\n",
      "Epoch 156/200\n",
      "15008/15008 [==============================] - 3s 209us/step - loss: 0.2000 - acc: 0.9352\n",
      "Epoch 157/200\n",
      "15008/15008 [==============================] - 3s 204us/step - loss: 0.2189 - acc: 0.9303\n",
      "Epoch 158/200\n",
      "15008/15008 [==============================] - 3s 201us/step - loss: 0.1805 - acc: 0.9444\n",
      "Epoch 159/200\n"
     ]
    },
    {
     "name": "stdout",
     "output_type": "stream",
     "text": [
      "15008/15008 [==============================] - 3s 194us/step - loss: 0.1914 - acc: 0.9398\n",
      "Epoch 160/200\n",
      "15008/15008 [==============================] - 3s 200us/step - loss: 0.2034 - acc: 0.9364\n",
      "Epoch 161/200\n",
      "15008/15008 [==============================] - 3s 190us/step - loss: 0.2435 - acc: 0.9220\n",
      "Epoch 162/200\n",
      "15008/15008 [==============================] - 3s 186us/step - loss: 0.3216 - acc: 0.9003\n",
      "Epoch 163/200\n",
      "15008/15008 [==============================] - 3s 186us/step - loss: 0.2731 - acc: 0.9122\n",
      "Epoch 164/200\n",
      "15008/15008 [==============================] - 3s 185us/step - loss: 0.2359 - acc: 0.9226\n",
      "Epoch 165/200\n",
      "15008/15008 [==============================] - 3s 195us/step - loss: 0.2391 - acc: 0.9231\n",
      "Epoch 166/200\n",
      "15008/15008 [==============================] - 3s 190us/step - loss: 0.1921 - acc: 0.9390\n",
      "Epoch 167/200\n",
      "15008/15008 [==============================] - 3s 187us/step - loss: 0.1812 - acc: 0.9432\n",
      "Epoch 168/200\n",
      "15008/15008 [==============================] - 3s 186us/step - loss: 0.1738 - acc: 0.9466\n",
      "Epoch 169/200\n",
      "15008/15008 [==============================] - 3s 186us/step - loss: 0.2126 - acc: 0.9342\n",
      "Epoch 170/200\n",
      "15008/15008 [==============================] - 3s 188us/step - loss: 0.1757 - acc: 0.9461\n",
      "Epoch 171/200\n",
      "15008/15008 [==============================] - 3s 198us/step - loss: 0.2029 - acc: 0.9347\n",
      "Epoch 172/200\n",
      "15008/15008 [==============================] - 3s 188us/step - loss: 0.1790 - acc: 0.9439\n",
      "Epoch 173/200\n",
      "15008/15008 [==============================] - 3s 190us/step - loss: 0.2252 - acc: 0.9274\n",
      "Epoch 174/200\n",
      "15008/15008 [==============================] - 3s 186us/step - loss: 0.2715 - acc: 0.9141\n",
      "Epoch 175/200\n",
      "15008/15008 [==============================] - 3s 187us/step - loss: 0.2229 - acc: 0.9306\n",
      "Epoch 176/200\n",
      "15008/15008 [==============================] - 3s 192us/step - loss: 0.2216 - acc: 0.9316\n",
      "Epoch 177/200\n",
      "15008/15008 [==============================] - 3s 194us/step - loss: 0.2285 - acc: 0.9290\n",
      "Epoch 178/200\n",
      "15008/15008 [==============================] - 3s 195us/step - loss: 0.5320 - acc: 0.8432\n",
      "Epoch 179/200\n",
      "15008/15008 [==============================] - 3s 190us/step - loss: 0.3023 - acc: 0.9056\n",
      "Epoch 180/200\n",
      "15008/15008 [==============================] - 3s 193us/step - loss: 0.1830 - acc: 0.9430\n",
      "Epoch 181/200\n",
      "15008/15008 [==============================] - 3s 195us/step - loss: 0.1659 - acc: 0.9487\n",
      "Epoch 182/200\n",
      "15008/15008 [==============================] - 3s 196us/step - loss: 0.1516 - acc: 0.9540\n",
      "Epoch 183/200\n",
      "15008/15008 [==============================] - 3s 182us/step - loss: 0.1935 - acc: 0.9394\n",
      "Epoch 184/200\n",
      "15008/15008 [==============================] - 3s 196us/step - loss: 0.2383 - acc: 0.9262\n",
      "Epoch 185/200\n",
      "15008/15008 [==============================] - 3s 189us/step - loss: 0.2120 - acc: 0.9340\n",
      "Epoch 186/200\n",
      "15008/15008 [==============================] - 3s 188us/step - loss: 0.1655 - acc: 0.9485\n",
      "Epoch 187/200\n",
      "15008/15008 [==============================] - 3s 187us/step - loss: 0.1516 - acc: 0.9520\n",
      "Epoch 188/200\n",
      "15008/15008 [==============================] - 3s 195us/step - loss: 0.1762 - acc: 0.9431\n",
      "Epoch 189/200\n",
      "15008/15008 [==============================] - 3s 186us/step - loss: 0.1541 - acc: 0.9520\n",
      "Epoch 190/200\n",
      "15008/15008 [==============================] - 3s 186us/step - loss: 0.1609 - acc: 0.9502\n",
      "Epoch 191/200\n",
      "15008/15008 [==============================] - 3s 186us/step - loss: 0.1775 - acc: 0.9453\n",
      "Epoch 192/200\n",
      "15008/15008 [==============================] - 3s 189us/step - loss: 0.3051 - acc: 0.9066\n",
      "Epoch 193/200\n",
      "15008/15008 [==============================] - 3s 195us/step - loss: 0.2558 - acc: 0.9206\n",
      "Epoch 194/200\n",
      "15008/15008 [==============================] - 3s 190us/step - loss: 0.1589 - acc: 0.9520\n",
      "Epoch 195/200\n",
      "15008/15008 [==============================] - 3s 187us/step - loss: 0.1399 - acc: 0.9563\n",
      "Epoch 196/200\n",
      "15008/15008 [==============================] - 3s 189us/step - loss: 0.1583 - acc: 0.9502\n",
      "Epoch 197/200\n",
      "15008/15008 [==============================] - 3s 189us/step - loss: 0.1438 - acc: 0.9551\n",
      "Epoch 198/200\n",
      "15008/15008 [==============================] - 3s 187us/step - loss: 0.1586 - acc: 0.9496\n",
      "Epoch 199/200\n",
      "15008/15008 [==============================] - 3s 197us/step - loss: 0.1328 - acc: 0.9576\n",
      "Epoch 200/200\n",
      "15008/15008 [==============================] - 3s 189us/step - loss: 0.1335 - acc: 0.9588\n",
      "Execution time = 9 min 44.420676946640015 sec\n"
     ]
    },
    {
     "data": {
      "image/png": "[encoded data removed]",
      "text/plain": [
       "<matplotlib.figure.Figure at 0xd803a5208>"
      ]
     },
     "metadata": {},
     "output_type": "display_data"
    },
    {
     "data": {
      "image/png": "[encoded data removed]",
      "text/plain": [
       "<matplotlib.figure.Figure at 0xd803a5240>"
      ]
     },
     "metadata": {},
     "output_type": "display_data"
    }
   ],
   "source": [
    "#Run model\n",
    "#calculate running time\n",
    "start = time.time()\n",
    "history= History()\n",
    "\n",
    "network.fit(train_img, train_lab, epochs=200, batch_size=800, shuffle=True, callbacks=[history])\n",
    "\n",
    "stop = time.time()\n",
    "print(\"Execution time = \" + str(int(((stop-start)-(stop-start)%60)/60)) +\" min \"+str((stop-start)%60)+\" sec\")\n",
    "\n",
    "Plot_accuracy(history.history['acc'], \"Training Accuracy\")\n",
    "\n",
    "Plot_Loss(history.history['loss'], \"Training Loss\")"
   ]
  },
  {
   "cell_type": "code",
   "execution_count": 132,
   "metadata": {},
   "outputs": [
    {
     "name": "stdout",
     "output_type": "stream",
     "text": [
      "_________________________________________________________________\n",
      "Layer (type)                 Output Shape              Param #   \n",
      "=================================================================\n",
      "dense_50 (Dense)             (None, 200)               2000200   \n",
      "_________________________________________________________________\n",
      "dense_51 (Dense)             (None, 300)               60300     \n",
      "_________________________________________________________________\n",
      "dense_52 (Dense)             (None, 400)               120400    \n",
      "_________________________________________________________________\n",
      "dense_53 (Dense)             (None, 200)               80200     \n",
      "_________________________________________________________________\n",
      "dropout_15 (Dropout)         (None, 200)               0         \n",
      "_________________________________________________________________\n",
      "dense_54 (Dense)             (None, 300)               60300     \n",
      "_________________________________________________________________\n",
      "dropout_16 (Dropout)         (None, 300)               0         \n",
      "_________________________________________________________________\n",
      "dense_55 (Dense)             (None, 300)               90300     \n",
      "_________________________________________________________________\n",
      "dense_56 (Dense)             (None, 8)                 2408      \n",
      "=================================================================\n",
      "Total params: 2,414,108\n",
      "Trainable params: 2,414,108\n",
      "Non-trainable params: 0\n",
      "_________________________________________________________________\n"
     ]
    }
   ],
   "source": [
    "network.summary()"
   ]
  },
  {
   "cell_type": "markdown",
   "metadata": {},
   "source": [
    "    Run on Test Set"
   ]
  },
  {
   "cell_type": "code",
   "execution_count": 121,
   "metadata": {},
   "outputs": [
    {
     "name": "stdout",
     "output_type": "stream",
     "text": [
      "1120/1120 [==============================] - 0s 136us/step\n"
     ]
    }
   ],
   "source": [
    "train_img = train_images.reshape((nb_img_train, img_size * img_size))\n",
    "train_img = train_img.astype('float32') / 255\n",
    "\n",
    "test_imgs = test_images.reshape([-1,img_size*img_size])\n",
    "test_imgs = test_imgs.astype('float32') / 255\n",
    "\n",
    "test_loss, test_acc = network.evaluate(test_imgs, test_lab)"
   ]
  },
  {
   "cell_type": "code",
   "execution_count": 122,
   "metadata": {},
   "outputs": [
    {
     "name": "stdout",
     "output_type": "stream",
     "text": [
      "test_acc: 0.5705357142857143 test_loss 2.1687780014106206\n"
     ]
    }
   ],
   "source": [
    "print('test_acc:', test_acc, 'test_loss', test_loss)"
   ]
  },
  {
   "cell_type": "markdown",
   "metadata": {},
   "source": [
    "    Predict for one image"
   ]
  },
  {
   "cell_type": "code",
   "execution_count": 128,
   "metadata": {},
   "outputs": [
    {
     "name": "stdout",
     "output_type": "stream",
     "text": [
      " \n",
      "Predicted Label : \u001b[1mBED\u001b[0m, Score:\u001b[1m0.986019\u001b[0m\n",
      "Actual Label : \u001b[1mBED\u001b[0m\n",
      " \n",
      "-----------------------------------------------------------\n",
      " \n",
      "BED : 0.986019\n",
      "CHAIR : 0.010899818\n",
      "COUCH : 0.0022536914\n",
      "LAMP : 0.0004481701\n",
      "TABLE : 0.00023916371\n",
      "CABINET : 0.0001227015\n",
      "BENCH : 1.630489e-05\n",
      "PLANT : 1.0669767e-06\n"
     ]
    },
    {
     "data": {
      "image/png": "[encoded data removed]",
      "text/plain": [
       "<matplotlib.figure.Figure at 0xdccbc9128>"
      ]
     },
     "metadata": {},
     "output_type": "display_data"
    }
   ],
   "source": [
    "predictions = network.predict(test_imgs)\n",
    "\n",
    "def Print_Pred(Predictions, index):\n",
    "    \n",
    "    scores = []\n",
    "\n",
    "    for i in range(len(dirlist_train)):\n",
    "        tup = (str(dirlist_train[i]), Predictions[index][i])\n",
    "        #sorted(predictions[1])\n",
    "        scores.append(tup)\n",
    "\n",
    "    sorted_scores = sorted(scores, key=lambda x: x[1], reverse=True)\n",
    "    \n",
    "    print(\" \")\n",
    "    print(\"Predicted Label : \" + '\\033[1m'  + str(max(scores, key=lambda x: x[1])[0]).upper() + '\\033[0m'+ \", Score:\" + '\\033[1m'  +str(max(scores, key=lambda x: x[1])[1])+ '\\033[0m' )\n",
    "    for i in range(len(test_lab[index])):\n",
    "        if(test_lab[index][i]== 1):\n",
    "            actual_label = dirlist_test[i]\n",
    "    print(\"Actual Label : \" + '\\033[1m'  +str(actual_label).upper()  + '\\033[0m')\n",
    "    print(\" \")\n",
    "    print(\"-----------------------------------------------------------\")\n",
    "    print(\" \")\n",
    "    \n",
    "    plt.imshow(test_images[index])\n",
    "\n",
    "    for i in range(len(sorted_scores)):\n",
    "        print(str(sorted_scores[i][0]).upper()  + \" : \" +str(sorted_scores[i][1]))\n",
    "\n",
    "#PRint prediction for given image\n",
    "Print_Pred(predictions, 5)"
   ]
  },
  {
   "cell_type": "markdown",
   "metadata": {},
   "source": [
    "    Save Model Weights"
   ]
  },
  {
   "cell_type": "code",
   "execution_count": 37,
   "metadata": {},
   "outputs": [],
   "source": [
    "network.save_weights('saved_models/network_weights.h5')"
   ]
  },
  {
   "cell_type": "markdown",
   "metadata": {},
   "source": [
    "--------------------------------------------------------------------------------------------------------------------------------"
   ]
  },
  {
   "cell_type": "markdown",
   "metadata": {},
   "source": [
    "## Convolutional Model"
   ]
  },
  {
   "cell_type": "code",
   "execution_count": 10,
   "metadata": {},
   "outputs": [],
   "source": [
    "# Learning Tensorflow, O'Reilly, Convolutional Neural Network, p. 63"
   ]
  },
  {
   "cell_type": "markdown",
   "metadata": {},
   "source": [
    "#### Helper Function Defintion"
   ]
  },
  {
   "cell_type": "code",
   "execution_count": 54,
   "metadata": {},
   "outputs": [],
   "source": [
    "def next_batch(num, data, labels):\n",
    "    '''\n",
    "    Return a total of `num` random samples and labels. \n",
    "    '''\n",
    "    idx = np.arange(0 , len(data))\n",
    "    np.random.shuffle(idx)\n",
    "    idx = idx[:num]\n",
    "    data_shuffle = [data[ i] for i in idx]\n",
    "    labels_shuffle = [labels[ i] for i in idx]\n",
    "\n",
    "    return np.asarray(data_shuffle), np.asarray(labels_shuffle)"
   ]
  },
  {
   "cell_type": "code",
   "execution_count": 55,
   "metadata": {},
   "outputs": [],
   "source": [
    "#sets couple of functions\n",
    "def weight_variable(shape):\n",
    "    initial = tf.truncated_normal(shape,stddev=0.1)\n",
    "    return tf.Variable(initial)\n",
    "\n",
    "def bias_variable(shape):\n",
    "    initial=tf.constant(0.1,shape=shape)\n",
    "    return tf.Variable(initial)\n",
    "    \n",
    "def conv2d(x,W):\n",
    "    return tf.nn.conv2d(x,W,strides=[1,1,1,1], padding='SAME')\n",
    "\n",
    "def max_pool_2x2(x):\n",
    "    return tf.nn.max_pool(x, ksize=[1,2,2,1], strides=[1,2,2,1],padding='SAME')\n",
    "\n",
    "def conv_layer(input_,shape):\n",
    "    W=weight_variable(shape)\n",
    "    b=bias_variable([shape[3]])\n",
    "    return tf.nn.relu(conv2d(input_,W)+b)\n",
    "\n",
    "def full_layer(input_,size):\n",
    "    in_size=int(input_.get_shape()[1])\n",
    "    W=weight_variable([in_size,size])\n",
    "    b= bias_variable([size])\n",
    "    return tf.matmul(input_,W)+b\n",
    "\n",
    "def Plot_accuracy(train_acc, Title):\n",
    "    x = [i for i in range(0, len(train_acc))]\n",
    "    y= train_acc\n",
    "    plt.plot(x,y)\n",
    "    plt.ylabel('Accuracy')\n",
    "    plt.xlabel('Steps')\n",
    "    plt.xticks(x)\n",
    "    plt.ylim(ymax=1)\n",
    "    plt.ylim(ymin=0)\n",
    "    plt.xlim(xmin=0)\n",
    "    plt.grid(True)\n",
    "    plt.title(Title)\n",
    "    plt.show()"
   ]
  },
  {
   "cell_type": "markdown",
   "metadata": {},
   "source": [
    "#### Computational Graph Definition"
   ]
  },
  {
   "cell_type": "markdown",
   "metadata": {},
   "source": [
    "    Computational Graph Variables"
   ]
  },
  {
   "cell_type": "code",
   "execution_count": 57,
   "metadata": {},
   "outputs": [],
   "source": [
    "nb_max2x2 = 2\n",
    "kernel_size= 5\n",
    "conv1_output = 100\n",
    "conv2_output = 200\n",
    "fully_connected_length = int(img_size/(2*nb_max2x2)*img_size/(2*nb_max2x2)*conv2_output)\n",
    "fully_connected_1_output =500\n",
    "dropout_ratio = 0.5"
   ]
  },
  {
   "cell_type": "markdown",
   "metadata": {},
   "source": [
    "    Computational Graph"
   ]
  },
  {
   "cell_type": "code",
   "execution_count": 58,
   "metadata": {},
   "outputs": [],
   "source": [
    "#Placeholders\n",
    "x = tf.placeholder(tf.float32, shape=[None, img_size,img_size,1])\n",
    "y_ = tf.placeholder(tf.float32, shape=[None,len(dirlist_train)])\n",
    "\n",
    "#reshape images array\n",
    "x_image = train_images.reshape([len(train_images) , img_size , img_size , 1])\n",
    "\n",
    "#first conv layer\n",
    "#INPUT images >> (len(train_images),100,100,1)\n",
    "conv1= conv_layer(x, shape=[kernel_size,kernel_size,1,conv1_output ]) #shape [kernel height, kernel width, nb of chanels in images, nb of output layers]\n",
    "conv1_pool= max_pool_2x2(conv1)\n",
    "#OUTPUT images >> (100,50,50)\n",
    "\n",
    "#second conv layer\n",
    "#INPUT images >> (100,50,50)\n",
    "conv2= conv_layer(conv1_pool, shape=[kernel_size , kernel_size , conv1_output , conv2_output])\n",
    "conv2_pool= max_pool_2x2(conv2)\n",
    "#OUTPUT images >> (200,25,25)\n",
    "\n",
    "#second conv layer\n",
    "#INPUT images >> (100,50,50)\n",
    "#conv3= conv_layer(conv2_pool, shape=[kernel_size , kernel_size , conv2_output , conv2_output])\n",
    "#conv3_pool= max_pool_2x2(conv3)\n",
    "#OUTPUT images >> (200,25,25)\n",
    "\n",
    "#second conv layer\n",
    "#INPUT images >> (100,50,50)\n",
    "#conv4= conv_layer(conv3_pool, shape=[kernel_size , kernel_size , conv2_output , conv2_output])\n",
    "#conv4_pool= max_pool_2x2(conv4)\n",
    "#OUTPUT images >> (200,25,25)\n",
    "\n",
    "#fully connected layer\n",
    "#INPUT images >> (200,25,25) >> reshape to 200*25*25 >> 125000\n",
    "conv2_flat = tf.reshape(conv2_pool, [-1,fully_connected_length])\n",
    "full_1 = tf.nn.relu(full_layer(conv2_flat, fully_connected_1_output))\n",
    "#OUTPUT images >> (-1,1000)\n",
    "\n",
    "#dropout layer\n",
    "keep_prob=tf.placeholder(tf.float32)\n",
    "full1_drop = tf.nn.dropout(full_1, keep_prob=keep_prob)\n",
    "\n",
    "y_conv = full_layer(full1_drop, len(dirlist_train))"
   ]
  },
  {
   "cell_type": "markdown",
   "metadata": {},
   "source": [
    "    Run Variables"
   ]
  },
  {
   "cell_type": "code",
   "execution_count": 60,
   "metadata": {},
   "outputs": [],
   "source": [
    "#Run Variables\n",
    "batch_size=50\n",
    "STEPS= 5"
   ]
  },
  {
   "cell_type": "markdown",
   "metadata": {},
   "source": [
    "    Run"
   ]
  },
  {
   "cell_type": "code",
   "execution_count": 61,
   "metadata": {
    "scrolled": false
   },
   "outputs": [
    {
     "name": "stdout",
     "output_type": "stream",
     "text": [
      "step 0, training accuracy 0.019999999552965164\n",
      "step 1, training accuracy 0.20000000298023224\n",
      "step 2, training accuracy 0.2199999988079071\n",
      "step 3, training accuracy 0.23999999463558197\n",
      "step 4, training accuracy 0.18000000715255737\n",
      "test accuracy: 0.1339285671710968\n"
     ]
    },
    {
     "data": {
      "image/png": "[encoded data removed]",
      "text/plain": [
       "<matplotlib.figure.Figure at 0xdc789fa90>"
      ]
     },
     "metadata": {},
     "output_type": "display_data"
    },
    {
     "name": "stdout",
     "output_type": "stream",
     "text": [
      "Execution time = 1 min 26.5264573097229 sec\n"
     ]
    }
   ],
   "source": [
    "train_acc = []\n",
    "\n",
    "cross_entropy = tf.reduce_mean(tf.nn.softmax_cross_entropy_with_logits(logits = y_conv, labels = y_))\n",
    "\n",
    "train_step = tf.train.AdamOptimizer(0.0001).minimize(cross_entropy)\n",
    "\n",
    "correct_prediction = tf.equal(tf.argmax(y_conv, 1), tf.argmax(y_,1))\n",
    "accuracy = tf.reduce_mean(tf.cast(correct_prediction, tf.float32))\n",
    "\n",
    "#calculate running time\n",
    "start = time.time()\n",
    "\n",
    "with tf.Session() as sess:\n",
    "    sess.run(tf.global_variables_initializer())\n",
    "    \n",
    "    for i in range(STEPS):\n",
    "        \n",
    "        batch_img, batch_label = next_batch(batch_size,x_image,train_lab)\n",
    "        \n",
    "        if i%1==0:\n",
    "            train_accuracy = sess.run(accuracy, feed_dict={x: batch_img, y_: batch_label, keep_prob: 1.0})\n",
    "            print(\"step {}, training accuracy {}\".format(i, train_accuracy))\n",
    "            train_acc.append(train_accuracy)\n",
    "            \n",
    "        sess.run(train_step, feed_dict={x: batch_img, y_: batch_label, keep_prob: dropout_ratio})\n",
    "        \n",
    "    X = test_img\n",
    "    Y = test_lab\n",
    "    test_accuracy = np.mean([sess.run(accuracy, feed_dict={x:X , y_:Y, keep_prob: 1.0})]) #for i in range(len(dirlist_train))])\n",
    "\n",
    "#calculate running time\n",
    "stop = time.time()\n",
    "\n",
    "#Extract performance metrics\n",
    "print('test accuracy: {}'.format(test_accuracy))\n",
    "Plot_accuracy(train_acc, \"Training Accuracy\")\n",
    "print(\"Execution time = \" + str(int(((stop-start)-(stop-start)%60)/60)) +\" min \"+str((stop-start)%60)+\" sec\")"
   ]
  }
 ],
 "metadata": {
  "kernelspec": {
   "display_name": "Python 3",
   "language": "python",
   "name": "python3"
  },
  "language_info": {
   "codemirror_mode": {
    "name": "ipython",
    "version": 3
   },
   "file_extension": ".py",
   "mimetype": "text/x-python",
   "name": "python",
   "nbconvert_exporter": "python",
   "pygments_lexer": "ipython3",
   "version": "3.5.4"
  }
 },
 "nbformat": 4,
 "nbformat_minor": 2
}
